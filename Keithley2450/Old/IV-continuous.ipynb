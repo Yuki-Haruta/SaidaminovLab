{
 "cells": [
  {
   "cell_type": "code",
   "execution_count": 2,
   "id": "1279ba0b-e8ce-45bf-a6d9-6436fcd523ac",
   "metadata": {},
   "outputs": [
    {
     "name": "stdout",
     "output_type": "stream",
     "text": [
      "0 : USB0::0x05E6::0x2450::04491080::INSTR : KEITHLEY INSTRUMENTS,MODEL 2450,04491080,1.7.3c\n"
     ]
    },
    {
     "data": {
      "text/plain": [
       "('USB0::0x05E6::0x2450::04491080::INSTR',)"
      ]
     },
     "execution_count": 2,
     "metadata": {},
     "output_type": "execute_result"
    }
   ],
   "source": [
    "from pymeasure.instruments import list_resources\n",
    "list_resources()"
   ]
  },
  {
   "cell_type": "code",
   "execution_count": 56,
   "id": "0b83326f-3f9e-4a4f-aaaa-497d11b25dd1",
   "metadata": {},
   "outputs": [
    {
     "name": "stdout",
     "output_type": "stream",
     "text": [
      "\u001b[33m01: Paul\u001b[33m\n",
      "\u001b[33m02: Ren\u001b[33m\n",
      "\u001b[33m03: Soumya\u001b[33m\n",
      "\u001b[33m04: Yuki\u001b[33m\n",
      "\u001b[31mSelect your user ID\u001b[33m\n"
     ]
    },
    {
     "name": "stdin",
     "output_type": "stream",
     "text": [
      " 4\n"
     ]
    },
    {
     "name": "stdout",
     "output_type": "stream",
     "text": [
      "\u001b[31mCreate a new folder (0) or Use an existing folder (1)\u001b[33m\n"
     ]
    },
    {
     "name": "stdin",
     "output_type": "stream",
     "text": [
      " 1\n"
     ]
    },
    {
     "name": "stdout",
     "output_type": "stream",
     "text": [
      "\u001b[33m01: 221102\u001b[33m\n",
      "\u001b[33m02: 221107\u001b[33m\n",
      "\u001b[33m03: 221202\u001b[33m\n",
      "\u001b[33m04: 221206\u001b[33m\n",
      "\u001b[33m05: 221213\u001b[33m\n",
      "\u001b[33m06: 221219\u001b[33m\n",
      "\u001b[33m07: 230426_vacuum-chamber-test\u001b[33m\n",
      "\u001b[33m08: 230427_vacuum-chamber-test-11.9uGys\u001b[33m\n",
      "\u001b[33m09: 230427_vacuum-chamber-test-1Torr-various-dose-rate\u001b[33m\n",
      "\u001b[33m10: 230427_vacuum-chamber-test-9.68mGys\u001b[33m\n",
      "\u001b[33m11: 230427_vacuum-chamber-test-one-glass\u001b[33m\n",
      "\u001b[33m12: 230427_vacuum-leaking-9.68mGys\u001b[33m\n",
      "\u001b[33m13: 230428_test\u001b[33m\n",
      "\u001b[33m14: 230501_tI_221207-MAPbBr3\u001b[33m\n",
      "\u001b[33m15: 230501_tI_vacuum-test-with-large-collimator\u001b[33m\n",
      "\u001b[33m16: 230502_tI_221207-air\u001b[33m\n",
      "\u001b[33m17: 230502_tI_Ahmed-MAPbBr2-no-passivation\u001b[33m\n",
      "\u001b[33m18: 230502_tI_program-test\u001b[33m\n",
      "\u001b[33m19: 230509_IV_Ahmed-Au-MAPbBr3-Ga\u001b[33m\n",
      "\u001b[33m20: 230509_tI_Ahmed-Au-MAPbBr3-Ga\u001b[33m\n",
      "\u001b[33m21: 230512_IV_BiPhPbBr\u001b[33m\n",
      "\u001b[33m22: 230512_tI_Ahmed-MAPbBr3-2nd-measurement\u001b[33m\n",
      "\u001b[33m23: 230512_tI_BiPhPbBr\u001b[33m\n",
      "\u001b[33m24: 230526_IV_02vs05_MAPbBr3\u001b[33m\n",
      "\u001b[33m25: 230526_tI_0.2-0.5-MAPbBr3_Cu-BCP-C60_Au\u001b[33m\n",
      "\u001b[33m26: 230530\u001b[33m\n",
      "\u001b[33m27: 230530_IV_MAPbBr3-SCLC-Continuous\u001b[33m\n",
      "\u001b[33m28: 230530_IV_mu-tau-test\u001b[33m\n",
      "\u001b[33m29: 230530_SCLC-pulse_MAPbBr3-first-try\u001b[33m\n",
      "\u001b[33m30: 230530_tI_mu-tau-test\u001b[33m\n",
      "\u001b[33m31: 230530_tI_mu-tau-test-pulse\u001b[33m\n",
      "\u001b[33m32: 230531_tI_MAPbBr3-Hecht-1SUN\u001b[33m\n",
      "\u001b[33m33: 230602_IV_Au-MPB-Ga_polished_02-05\u001b[33m\n",
      "\u001b[33m34: 230602_tI_Au-MPB-Ga_polished_02-05\u001b[33m\n",
      "\u001b[33m35: 230613_ion-migration_ion-migration-test\u001b[33m\n",
      "\u001b[33m36: 230615_IV-pulse_Au-MPB-C60-BCP-Cu\u001b[33m\n",
      "\u001b[33m37: 230615_tI_Au-MPB-C60-BCP-Cu\u001b[33m\n",
      "\u001b[33m38: 230615_tI_Au-MPB-C60-BCP-Cu_polished\u001b[33m\n",
      "\u001b[33m39: 230618_SCLC-pulse_test\u001b[33m\n",
      "\u001b[33m40: 230621_SCLC-pulse_0\u001b[33m\n",
      "\u001b[33m41: 230621_SCLC-pulse_2\u001b[33m\n",
      "\u001b[33m42: 230621_SCLC-pulse_3\u001b[33m\n",
      "\u001b[33m43: 230621_SCLC-pulse_5\u001b[33m\n",
      "\u001b[33m44: 230621_SCLC-pulse_7\u001b[33m\n",
      "\u001b[33m45: 230621_SCLC-pulse_8\u001b[33m\n",
      "\u001b[33m46: 230621_SCLC-pulse_9\u001b[33m\n",
      "\u001b[33m47: 230621_tI-PULSE_Au-MPB-C60-BCP-Cu\u001b[33m\n",
      "\u001b[33m48: 230621_tI_Air-ionization\u001b[33m\n",
      "\u001b[33m49: 230621_tI_test\u001b[33m\n",
      "\u001b[33m50: 230704_SCLC-pulse_testx1\u001b[33m\n",
      "\u001b[33m51: 230704_SCLC-pulse_testx3\u001b[33m\n",
      "\u001b[33m52: 230704_SCLC-pulse_testx5\u001b[33m\n",
      "\u001b[33m53: 230704_SCLC-pulse_textx2\u001b[33m\n",
      "\u001b[33m54: 230704_SCLC-pulse_textx4\u001b[33m\n",
      "\u001b[33m55: 230704_tI-PULSE_testx10\u001b[33m\n",
      "\u001b[33m56: 230817_tI_Air-ionization-2nd\u001b[33m\n",
      "\u001b[33m57: 230820_IV-CONTINUOUS_Air-ionization-pararell-plate\u001b[33m\n",
      "\u001b[33m58: 230820_tI_Air-ionization-Pararell-plate\u001b[33m\n",
      "\u001b[33m59: 230821_IV-CONTINUOUS_CsPbBr3-paste_Au-CPB-SnO2-ITO\u001b[33m\n",
      "\u001b[33m60: 230821_tI_CsPbBr3-paste-Au-CPB-SnO2-ITO\u001b[33m\n",
      "\u001b[33m61: 230822_tI_Air-ionization-3rd\u001b[33m\n",
      "\u001b[33m62: 230828_SCLC-pulse_test\u001b[33m\n",
      "\u001b[33m63: 230901_IV-CONTINUOUS_Ahmed-MAPbBr3-Under-X-RAY\u001b[33m\n",
      "\u001b[33m64: 230905_ion-migration_Ahmed-ionmigration\u001b[33m\n",
      "\u001b[33m65: 230905_IV-continuous_Ahmed-SCLC-relaxation-FR\u001b[33m\n",
      "\u001b[31mSelect your folder ID\u001b[33m\n"
     ]
    },
    {
     "name": "stdin",
     "output_type": "stream",
     "text": [
      " 63\n"
     ]
    }
   ],
   "source": [
    "import datetime\n",
    "import os\n",
    "import sys\n",
    "from utilities import make_folder, int_ask\n",
    "\n",
    "# Set the project name\n",
    "user_list = os.listdir('/Users/lznus/Desktop/Data-Keithley/')\n",
    "for i, user in enumerate(user_list):\n",
    "    print(f'\\033[33m{i+1:02}: {user}\\033[33m')\n",
    "print('\\033[31mSelect your user ID\\033[33m')\n",
    "user_ID = int(input(''))\n",
    "user_name = user_list[user_ID-1]\n",
    "\n",
    "today = datetime.datetime.today().strftime('%y%m%d')\n",
    "\n",
    "# Set the project name if you need\n",
    "print('\\033[31mCreate a new folder (0) or Use an existing folder (1)\\033[33m')\n",
    "mkdir_option = int_ask('')\n",
    "\n",
    "if mkdir_option == 0:\n",
    "    print('\\033[31mEnter project name: \\033[33m')\n",
    "    project_name = input('')\n",
    "    while project_name == '':\n",
    "        print('\\033[31mError: Project name cannot be empty\\nEnter project name: \\033[33m')\n",
    "        project_name = input('')\n",
    "    # Define the name\n",
    "    project_dir = f\"/Users/lznus/Desktop/Data-Keithley/{user_name}/{today}_IV-continuous_{project_name}\"\n",
    "    fig_dir = f\"{project_dir}/figures\"\n",
    "    \n",
    "elif mkdir_option == 1:\n",
    "    folder_list = os.listdir(f\"/Users/lznus/Desktop/Data-Keithley/{user_name}\")\n",
    "    for i, folder in enumerate(folder_list):\n",
    "        print(f'\\033[33m{i+1:02}: {folder}\\033[33m')\n",
    "    print('\\033[31mSelect your folder ID\\033[33m')\n",
    "    folder_ID = int(input(''))\n",
    "    project_dir = f\"/Users/lznus/Desktop/Data-Keithley/{user_name}/{folder_list[folder_ID-1]}\"\n",
    "    fig_dir = f\"{project_dir}/figures\""
   ]
  },
  {
   "cell_type": "code",
   "execution_count": 77,
   "id": "c6ff1301-6692-4f0d-a81e-5d93fe5cd37d",
   "metadata": {},
   "outputs": [
    {
     "name": "stdin",
     "output_type": "stream",
     "text": [
      "Enter file name:  Control_dark_positive_5\n"
     ]
    }
   ],
   "source": [
    "import numpy as np\n",
    "# Set parameters\n",
    "start_voltage = 0 #V\n",
    "end_voltage = 50 # V\n",
    "step_size = 2 #V/step\n",
    "scan_rate = 10 #V/s\n",
    "cur_limit = 0.05 # A\n",
    "direction = 'F' # B:both (F to R), F:forward, R:reverse\n",
    "\n",
    "if start_voltage > end_voltage:\n",
    "    step_size = (-1)*step_size\n",
    "source_voltage = np.arange(start_voltage, end_voltage+step_size, step_size) # prepare voltage sources\n",
    "source_voltage_R = list(source_voltage)\n",
    "source_voltage_R.reverse()\n",
    "total_time = abs(end_voltage - start_voltage) / scan_rate\n",
    "delay_time =  total_time / len(source_voltage)\n",
    "if direction == 'B':\n",
    "    total_time = total_time * 2\n",
    "# Set the filename\n",
    "file_name = input('Enter file name: ')\n",
    "filename = f'{project_dir}/{file_name}-F.csv'\n",
    "filename_R = f'{project_dir}/{file_name}-R.csv'\n",
    "if max(source_voltage)*cur_limit > 5:\n",
    "    print('invalid limit! output should be less than 5 W')\n",
    "    \n",
    "# if total_time < 60:\n",
    "#     print(f'Estimated total time is {int(total_time)} sec')\n",
    "# elif total_time >= 60 and total_time <= 3600:\n",
    "#     print(f'Estimated total time is {int(total_time)/60} min')\n",
    "# elif total_time > 3600:\n",
    "#     print(f'Estimated total time is {int(total_time)/3600} hrs')"
   ]
  },
  {
   "cell_type": "code",
   "execution_count": 78,
   "id": "0ef0c070-0da3-47de-bb92-65c9327ef1f0",
   "metadata": {},
   "outputs": [
    {
     "name": "stdout",
     "output_type": "stream",
     "text": [
      "Program completed\n"
     ]
    },
    {
     "data": {
      "image/png": "[encoded data removed]",
      "text/plain": [
       "<Figure size 864x576 with 1 Axes>"
      ]
     },
     "metadata": {
      "needs_background": "light"
     },
     "output_type": "display_data"
    }
   ],
   "source": [
    "import pyvisa as visa\n",
    "import time\n",
    "import csv\n",
    "import datetime\n",
    "import sys\n",
    "import matplotlib.pyplot as plt\n",
    "from IPython.display import display, clear_output\n",
    "\n",
    "# Create the project directory if it does not exist\n",
    "make_folder(project_dir)\n",
    "# Create the project directory if it does not exist\n",
    "make_folder(fig_dir)\n",
    "\n",
    "# Check Parameters\n",
    "print(f'File name: {file_name}.csv')\n",
    "print(f'Range: from {start_voltage} V to {end_voltage} V')\n",
    "print(f'Scan rate: {scan_rate} V/s')\n",
    "\n",
    "# Make sure if you start or not\n",
    "START = input('Press Enter to Start')\n",
    "if START == '':\n",
    "    print(\"\\n Let's get started :)\")\n",
    "    pass\n",
    "else:\n",
    "    sys.exit(0)\n",
    "    \n",
    "# Open a connection to the Keithley 2450\n",
    "try:\n",
    "    rm = visa.ResourceManager()\n",
    "    keithley = rm.open_resource('USB0::0x05E6::0x2450::04491080::INSTR')\n",
    "except:\n",
    "    print(\"Error: Could not connect to instrument\")\n",
    "    sys.exit(0)\n",
    "\n",
    "# Initialize the time and current arrays\n",
    "times = []\n",
    "currents = []\n",
    "voltages = []\n",
    "\n",
    "# Set up the real-time plot\n",
    "plt.ion()\n",
    "fig = plt.figure(figsize=(12,8))\n",
    "plt.rcParams[\"font.size\"] = 20\n",
    "plt.xlabel('Voltage (V)')\n",
    "plt.ylabel('Current (A)')\n",
    "# Set the voltage source output on\n",
    "keithley.write(f'SOURCE:VOLTAGE:LEVEL 0') \n",
    "keithley.write(f':SOUR:VOLT:ILIMIT {cur_limit}')\n",
    "keithley.write('OUTPUT ON')\n",
    "\n",
    "# Start the measurement and real-time plot\n",
    "start_time = time.perf_counter()\n",
    "for i in range(len(source_voltage)):\n",
    "    round_start = time.perf_counter()\n",
    "    # Set the voltage source\n",
    "    keithley.write(f'SOURCE:VOLTAGE:LEVEL {source_voltage[i]}') \n",
    "    clear_output(wait=True)\n",
    "    voltage = float(keithley.query('MEASURE:VOLTAGE?'))\n",
    "    current = float(keithley.query('MEASURE:CURRENT?'))\n",
    "    times.append((time.perf_counter() - start_time))\n",
    "    currents.append(current)\n",
    "    voltages.append(voltage)\n",
    "    print(f'Time: {times[-1]:.2f} s')\n",
    "    print(f'Voltage: {voltage:.4g} V')\n",
    "    print(f'Current: {current:.4g} A')\n",
    "    plt.plot(voltages, currents, linestyle='-', marker='o', label='Current', color='blue')\n",
    "    plt.xlabel('Voltage (V)', fontsize=18)\n",
    "    plt.ylabel('Current (A)', fontsize=18)\n",
    "    plt.xticks(fontsize=16)\n",
    "    plt.yticks(fontsize=16)\n",
    "    plt.grid(True)\n",
    "    display(fig)\n",
    "    if (delay_time - (time.perf_counter() - round_start)) > 0:\n",
    "        time.sleep(delay_time - (time.perf_counter() - round_start))\n",
    "    else:\n",
    "        pass\n",
    "\n",
    "clear_output(wait=True)\n",
    "# Set the voltage source output off\n",
    "keithley.write('OUTPUT OFF')\n",
    "\n",
    "# Create a CSV file for saving the data\n",
    "with open(filename, 'w', newline='') as csvfile:\n",
    "    csvwriter = csv.writer(csvfile)\n",
    "    csvwriter.writerow(['Time (s)', 'Current (A)', 'Voltage (V)'])\n",
    "    for i in range(len(times)):\n",
    "        csvwriter.writerow([times[i], currents[i], voltages[i]])\n",
    "\n",
    "# Check that the CSV file was created successfully\n",
    "try:\n",
    "    with open(filename, 'r') as csvfile:\n",
    "        pass\n",
    "except:\n",
    "    \n",
    "    print(\"Error: Could not create CSV file\")\n",
    "\n",
    "# start reverse scan\n",
    "if not direction == 'F':\n",
    "    # Initialize the time and current arrays\n",
    "    times_R = []\n",
    "    currents_R = []\n",
    "    voltages_R = []\n",
    "\n",
    "    # Set the voltage source output on\n",
    "    keithley.write(f'SOURCE:VOLTAGE:LEVEL 0') \n",
    "    keithley.write('OUTPUT ON')\n",
    "\n",
    "    # Start the measurement and real-time plot\n",
    "    start_time = time.perf_counter()\n",
    "    for i in range(len(source_voltage_R)):\n",
    "        round_start = time.perf_counter()\n",
    "        # Set the voltage source\n",
    "        keithley.write(f'SOURCE:VOLTAGE:LEVEL {source_voltage_R[i]}') \n",
    "        clear_output(wait=True)\n",
    "        voltage = float(keithley.query('MEASURE:VOLTAGE?'))\n",
    "        current = float(keithley.query('MEASURE:CURRENT?'))\n",
    "        times_R.append((time.perf_counter() - start_time))\n",
    "        currents_R.append(current)\n",
    "        voltages_R.append(voltage)\n",
    "        print(f'Time: {times_R[-1]:.2f} s')\n",
    "        print(f'Voltage: {voltage:.4g} V')\n",
    "        print(f'Current: {current:.4g} A')\n",
    "        plt.plot(voltages, currents, linestyle='-', marker='o', label='Current', color='blue')\n",
    "        plt.plot(voltages_R, currents_R, linestyle='-', marker='o', label='Current', color='green')\n",
    "        plt.xlabel('Voltage (V)', fontsize=18)\n",
    "        plt.ylabel('Current (A)', fontsize=18)\n",
    "        plt.xticks(fontsize=16)\n",
    "        plt.yticks(fontsize=16)\n",
    "        plt.grid(True)\n",
    "        display(fig)\n",
    "        if (delay_time - (time.perf_counter() - round_start)) > 0:\n",
    "            time.sleep(delay_time - (time.perf_counter() - round_start))\n",
    "        else:\n",
    "            pass\n",
    "\n",
    "    clear_output(wait=True)\n",
    "    # Set the voltage source output off\n",
    "    keithley.write('OUTPUT OFF')\n",
    "\n",
    "    # Create a CSV file for saving the data\n",
    "    with open(filename_R, 'w', newline='') as csvfile:\n",
    "        csvwriter = csv.writer(csvfile)\n",
    "        csvwriter.writerow(['Time (s)', 'Current (A)', 'Voltage (V)'])\n",
    "        for i in range(len(times)):\n",
    "            csvwriter.writerow([times_R[i], currents_R[i], voltages_R[i]])\n",
    "\n",
    "    # Check that the CSV file was created successfully\n",
    "    try:\n",
    "        with open(filename_R, 'r') as csvfile:\n",
    "            pass\n",
    "    except:\n",
    "\n",
    "        print(\"Error: Could not create CSV file\")\n",
    "# Close the connection to the Keithley 2450\n",
    "keithley.close()\n",
    "\n",
    "print(\"Program completed\")"
   ]
  },
  {
   "cell_type": "code",
   "execution_count": 31,
   "id": "12a07547-4626-41ad-814f-5557b4ea6ebf",
   "metadata": {},
   "outputs": [
    {
     "data": {
      "text/plain": [
       "'/Users/lznus/Desktop/Data-Keithley/Yuki/230905_IV-continuous_Ahmed-SCLC-relaxation-FR\\\\DCM-A-F.csv'"
      ]
     },
     "execution_count": 31,
     "metadata": {},
     "output_type": "execute_result"
    }
   ],
   "source": [
    "filename"
   ]
  },
  {
   "cell_type": "code",
   "execution_count": 7,
   "id": "4306509a-e062-4f7f-86b0-39faec4cde76",
   "metadata": {},
   "outputs": [
    {
     "name": "stdout",
     "output_type": "stream",
     "text": [
      "Collecting pyvisa-py\n",
      "  Downloading PyVISA_py-0.7.0-py3-none-any.whl (70 kB)\n",
      "Requirement already satisfied: pyvisa>=1.13.0 in c:\\users\\lznus\\anaconda3\\lib\\site-packages (from pyvisa-py) (1.13.0)\n",
      "Requirement already satisfied: typing-extensions in c:\\users\\lznus\\anaconda3\\lib\\site-packages (from pyvisa-py) (4.1.1)\n",
      "Note: you may need to restart the kernel to use updated packages.Installing collected packages: pyvisa-py\n",
      "Successfully installed pyvisa-py-0.7.0\n",
      "\n"
     ]
    }
   ],
   "source": [
    "pip install pyvisa-py"
   ]
  },
  {
   "cell_type": "code",
   "execution_count": 79,
   "id": "4668a321-cab7-4116-9afb-a08f51cfa68d",
   "metadata": {},
   "outputs": [
    {
     "name": "stdout",
     "output_type": "stream",
     "text": [
      "0: Control_25.2uGys_negative_3-F\n",
      "1: Control_25.2uGys_positive_4-F\n",
      "2: Control_dark_negative_6-F\n",
      "3: Control_dark_positive_4-F\n",
      "4: Control_dark_positive_5-F\n",
      "5: DCM_25.2uGys_negative_2-F\n",
      "6: DCM_dark_negative_2-F\n"
     ]
    }
   ],
   "source": [
    "import glob\n",
    "import os\n",
    "data_list = glob.glob(f'{project_dir}/*.csv')\n",
    "csv_list = []\n",
    "\n",
    "for i, file in enumerate(data_list):\n",
    "    csv_list.append(os.path.splitext(os.path.basename(file))[0])\n",
    "    print(f'{i}: {os.path.splitext(os.path.basename(file))[0]}')"
   ]
  },
  {
   "cell_type": "code",
   "execution_count": 80,
   "id": "a453a5b2-5928-4f8d-b998-2169dbd70b2e",
   "metadata": {},
   "outputs": [
    {
     "name": "stdout",
     "output_type": "stream",
     "text": [
      "0: Control_25.2uGys_positive_4-F\n",
      "1: Control_dark_positive_4-F\n",
      "2: Control_dark_positive_5-F\n"
     ]
    },
    {
     "data": {
      "image/png": "[encoded data removed]",
      "text/plain": [
       "<Figure size 864x576 with 1 Axes>"
      ]
     },
     "metadata": {
      "needs_background": "light"
     },
     "output_type": "display_data"
    }
   ],
   "source": [
    "plot_index = [1,3,4] # Chose the numbers\n",
    "save = False\n",
    "\n",
    "if save:\n",
    "    fig_name = input('Input Figure Name')\n",
    "\n",
    "plot_list = []\n",
    "for i in range(len(plot_index)):\n",
    "    plot_list.append(csv_list[plot_index[i]])\n",
    "\n",
    "for i, file in enumerate(plot_list):\n",
    "    print(f'{i}: {file}')\n",
    "    \n",
    "import pandas as pd\n",
    "\n",
    "figure = plt.figure(figsize=(12,8))\n",
    "plt.rcParams[\"font.size\"] = 20\n",
    "plt.xlabel('Voltage (V)')\n",
    "plt.ylabel('Current (A)')\n",
    "\n",
    "for file in plot_list:\n",
    "    df = pd.read_csv(f'{project_dir}/{file}.csv')\n",
    "    plt.plot(df['Voltage (V)'], df['Current (A)'], linestyle='-', marker='o', label = file)\n",
    "\n",
    "plt.legend()\n",
    "plt.show()\n",
    "\n",
    "if save:\n",
    "    # Create the project directory if it does not exist\n",
    "    fig_com_dir = f\"{fig_dir}/combined\"\n",
    "    make_folder(fig_com_dir)\n",
    "    fig_com_path = os.path.join(fig_com_dir, fig_name + '.png')\n",
    "    figure.savefig(fig_com_path, transparent = True)"
   ]
  },
  {
   "cell_type": "code",
   "execution_count": null,
   "id": "a883d308-1315-43de-bce8-f7a54533c8ec",
   "metadata": {},
   "outputs": [],
   "source": [
    "figure = plt.figure(figsize=(12,8))\n",
    "plt.rcParams[\"font.size\"] = 20\n",
    "plt.xlabel('Voltage (V)')\n",
    "plt.ylabel('Current (A)')\n",
    "\n",
    "for file in plot_list:\n",
    "    df = pd.read_csv(f'{project_dir}/{file}.csv')\n",
    "    plt.plot(df['Voltage (V)'], df['Current (A)'], linestyle='-', marker='o', label = file)\n",
    "\n",
    "plt.legend()\n",
    "plt.ylim(-0.1*1e-10,0.1*1e-10)\n",
    "plt.show()"
   ]
  },
  {
   "cell_type": "code",
   "execution_count": null,
   "id": "3ae78a43-931f-4831-ba87-72bcc26c7354",
   "metadata": {},
   "outputs": [],
   "source": [
    "plot = [input('Chose the numbers')]\n",
    "plot"
   ]
  }
 ],
 "metadata": {
  "kernelspec": {
   "display_name": "Python 3 (ipykernel)",
   "language": "python",
   "name": "python3"
  },
  "language_info": {
   "codemirror_mode": {
    "name": "ipython",
    "version": 3
   },
   "file_extension": ".py",
   "mimetype": "text/x-python",
   "name": "python",
   "nbconvert_exporter": "python",
   "pygments_lexer": "ipython3",
   "version": "3.9.12"
  }
 },
 "nbformat": 4,
 "nbformat_minor": 5
}
