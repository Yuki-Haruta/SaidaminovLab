{
 "cells": [
  {
   "cell_type": "markdown",
   "id": "1cbbaed2-6a03-4e6f-9066-efd5a1500622",
   "metadata": {
    "tags": []
   },
   "source": [
    "## 1st: create a folder"
   ]
  },
  {
   "cell_type": "code",
   "execution_count": 1,
   "id": "0b83326f-3f9e-4a4f-aaaa-497d11b25dd1",
   "metadata": {},
   "outputs": [
    {
     "name": "stdout",
     "output_type": "stream",
     "text": [
      "\u001b[33m01: Paul\u001b[33m\n",
      "\u001b[33m02: Ren\u001b[33m\n",
      "\u001b[33m03: Soumya\u001b[33m\n",
      "\u001b[33m04: Yuki\u001b[33m\n",
      "\u001b[31mSelect your user ID\u001b[33m\n"
     ]
    },
    {
     "name": "stdin",
     "output_type": "stream",
     "text": [
      " 4\n"
     ]
    },
    {
     "name": "stdout",
     "output_type": "stream",
     "text": [
      "\u001b[31mCreate a new folder (0) or Use an existing folder (1)\u001b[33m\n"
     ]
    },
    {
     "name": "stdin",
     "output_type": "stream",
     "text": [
      " 1\n"
     ]
    },
    {
     "name": "stdout",
     "output_type": "stream",
     "text": [
      "\u001b[33m01: 221102\u001b[33m\n",
      "\u001b[33m02: 221107\u001b[33m\n",
      "\u001b[33m03: 221202\u001b[33m\n",
      "\u001b[33m04: 221206\u001b[33m\n",
      "\u001b[33m05: 221213\u001b[33m\n",
      "\u001b[33m06: 221219\u001b[33m\n",
      "\u001b[33m07: 230426_vacuum-chamber-test\u001b[33m\n",
      "\u001b[33m08: 230427_vacuum-chamber-test-11.9uGys\u001b[33m\n",
      "\u001b[33m09: 230427_vacuum-chamber-test-1Torr-various-dose-rate\u001b[33m\n",
      "\u001b[33m10: 230427_vacuum-chamber-test-9.68mGys\u001b[33m\n",
      "\u001b[33m11: 230427_vacuum-chamber-test-one-glass\u001b[33m\n",
      "\u001b[33m12: 230427_vacuum-leaking-9.68mGys\u001b[33m\n",
      "\u001b[33m13: 230428_test\u001b[33m\n",
      "\u001b[33m14: 230501_tI_221207-MAPbBr3\u001b[33m\n",
      "\u001b[33m15: 230501_tI_vacuum-test-with-large-collimator\u001b[33m\n",
      "\u001b[33m16: 230502_tI_221207-air\u001b[33m\n",
      "\u001b[33m17: 230502_tI_Ahmed-MAPbBr2-no-passivation\u001b[33m\n",
      "\u001b[33m18: 230502_tI_program-test\u001b[33m\n",
      "\u001b[33m19: 230509_IV_Ahmed-Au-MAPbBr3-Ga\u001b[33m\n",
      "\u001b[33m20: 230509_tI_Ahmed-Au-MAPbBr3-Ga\u001b[33m\n",
      "\u001b[33m21: 230512_IV_BiPhPbBr\u001b[33m\n",
      "\u001b[33m22: 230512_tI_Ahmed-MAPbBr3-2nd-measurement\u001b[33m\n",
      "\u001b[33m23: 230512_tI_BiPhPbBr\u001b[33m\n",
      "\u001b[33m24: 230526_IV_02vs05_MAPbBr3\u001b[33m\n",
      "\u001b[33m25: 230526_tI_0.2-0.5-MAPbBr3_Cu-BCP-C60_Au\u001b[33m\n",
      "\u001b[33m26: 230530\u001b[33m\n",
      "\u001b[33m27: 230530_IV_MAPbBr3-SCLC-Continuous\u001b[33m\n",
      "\u001b[33m28: 230530_IV_mu-tau-test\u001b[33m\n",
      "\u001b[33m29: 230530_SCLC-pulse_MAPbBr3-first-try\u001b[33m\n",
      "\u001b[33m30: 230530_tI_mu-tau-test\u001b[33m\n",
      "\u001b[33m31: 230530_tI_mu-tau-test-pulse\u001b[33m\n",
      "\u001b[33m32: 230531_tI_MAPbBr3-Hecht-1SUN\u001b[33m\n",
      "\u001b[33m33: 230602_IV_Au-MPB-Ga_polished_02-05\u001b[33m\n",
      "\u001b[33m34: 230602_tI_Au-MPB-Ga_polished_02-05\u001b[33m\n",
      "\u001b[33m35: 230613_ion-migration_ion-migration-test\u001b[33m\n",
      "\u001b[33m36: 230615_IV-pulse_Au-MPB-C60-BCP-Cu\u001b[33m\n",
      "\u001b[33m37: 230615_tI_Au-MPB-C60-BCP-Cu\u001b[33m\n",
      "\u001b[33m38: 230615_tI_Au-MPB-C60-BCP-Cu_polished\u001b[33m\n",
      "\u001b[33m39: 230618_SCLC-pulse_test\u001b[33m\n",
      "\u001b[33m40: 230621_SCLC-pulse_0\u001b[33m\n",
      "\u001b[33m41: 230621_SCLC-pulse_2\u001b[33m\n",
      "\u001b[33m42: 230621_SCLC-pulse_3\u001b[33m\n",
      "\u001b[33m43: 230621_SCLC-pulse_5\u001b[33m\n",
      "\u001b[33m44: 230621_SCLC-pulse_7\u001b[33m\n",
      "\u001b[33m45: 230621_SCLC-pulse_8\u001b[33m\n",
      "\u001b[33m46: 230621_SCLC-pulse_9\u001b[33m\n",
      "\u001b[33m47: 230621_tI-PULSE_Au-MPB-C60-BCP-Cu\u001b[33m\n",
      "\u001b[33m48: 230621_tI_Air-ionization\u001b[33m\n",
      "\u001b[33m49: 230621_tI_test\u001b[33m\n",
      "\u001b[33m50: 230704_SCLC-pulse_testx1\u001b[33m\n",
      "\u001b[33m51: 230704_SCLC-pulse_testx3\u001b[33m\n",
      "\u001b[33m52: 230704_SCLC-pulse_testx5\u001b[33m\n",
      "\u001b[33m53: 230704_SCLC-pulse_textx2\u001b[33m\n",
      "\u001b[33m54: 230704_SCLC-pulse_textx4\u001b[33m\n",
      "\u001b[33m55: 230704_tI-PULSE_testx10\u001b[33m\n",
      "\u001b[33m56: 230817_tI_Air-ionization-2nd\u001b[33m\n",
      "\u001b[33m57: 230820_IV-CONTINUOUS_Air-ionization-pararell-plate\u001b[33m\n",
      "\u001b[33m58: 230820_tI_Air-ionization-Pararell-plate\u001b[33m\n",
      "\u001b[33m59: 230821_IV-CONTINUOUS_CsPbBr3-paste_Au-CPB-SnO2-ITO\u001b[33m\n",
      "\u001b[33m60: 230821_tI_CsPbBr3-paste-Au-CPB-SnO2-ITO\u001b[33m\n",
      "\u001b[33m61: 230822_tI_Air-ionization-3rd\u001b[33m\n",
      "\u001b[33m62: 230828_SCLC-pulse_test\u001b[33m\n",
      "\u001b[33m63: 230901_IV-CONTINUOUS_Ahmed-MAPbBr3-Under-X-RAY\u001b[33m\n",
      "\u001b[33m64: 230905_tI_tes\u001b[33m\n",
      "\u001b[31mSelect your folder ID\u001b[33m\n"
     ]
    },
    {
     "name": "stdin",
     "output_type": "stream",
     "text": [
      " 0\n"
     ]
    }
   ],
   "source": [
    "import datetime\n",
    "import os\n",
    "import sys\n",
    "from utilities import make_folder, int_ask\n",
    "\n",
    "# Set the project name\n",
    "user_list = os.listdir('/Users/lznus/Desktop/Data-Keithley/')\n",
    "for i, user in enumerate(user_list):\n",
    "    print(f'\\033[33m{i+1:02}: {user}\\033[33m')\n",
    "print('\\033[31mSelect your user ID\\033[33m')\n",
    "user_ID = int(input(''))\n",
    "user_name = user_list[user_ID-1]\n",
    "\n",
    "today = datetime.datetime.today().strftime('%y%m%d')\n",
    "\n",
    "# Set the project name if you need\n",
    "print('\\033[31mCreate a new folder (0) or Use an existing folder (1)\\033[33m')\n",
    "mkdir_option = int_ask('')\n",
    "\n",
    "if mkdir_option == 0:\n",
    "    print('\\033[31mEnter project name: \\033[33m')\n",
    "    project_name = input('')\n",
    "    while project_name == '':\n",
    "        print('\\033[31mError: Project name cannot be empty\\nEnter project name: \\033[33m')\n",
    "        project_name = input('')\n",
    "    # Define the name\n",
    "    project_dir = f\"/Users/lznus/Desktop/Data-Keithley/{user_name}/{today}_tI_{project_name}\"\n",
    "    fig_dir = f\"{project_dir}/figures\"\n",
    "    \n",
    "elif mkdir_option == 1:\n",
    "    folder_list = os.listdir(f\"/Users/lznus/Desktop/Data-Keithley/{user_name}\")\n",
    "    for i, folder in enumerate(folder_list):\n",
    "        print(f'\\033[33m{i+1:02}: {folder}\\033[33m')\n",
    "    print('\\033[31mSelect your folder ID\\033[33m')\n",
    "    folder_ID = int(input(''))\n",
    "    project_dir = f\"/Users/lznus/Desktop/Data-Keithley/{user_name}/{folder_list[folder_ID-1]}\"\n",
    "    fig_dir = f\"{project_dir}/figures\""
   ]
  },
  {
   "cell_type": "markdown",
   "id": "45403a6b-ca2f-4a64-bd36-48d55c3263d2",
   "metadata": {
    "tags": []
   },
   "source": [
    "## 2nd: set parameters and make a file"
   ]
  },
  {
   "cell_type": "code",
   "execution_count": 6,
   "id": "0db61252-0f2a-4c1b-a275-7dd8585987cb",
   "metadata": {},
   "outputs": [
    {
     "name": "stdout",
     "output_type": "stream",
     "text": [
      "\u001b[33mEnter the file name [XXX], it will be \"/Users/lznus/Desktop/Data-Keithley/Yuki/230905_tI_tes/XXX.csv\"\n"
     ]
    },
    {
     "name": "stdin",
     "output_type": "stream",
     "text": [
      " tety\n"
     ]
    },
    {
     "name": "stdout",
     "output_type": "stream",
     "text": [
      "\u001b[33mThe file \"tety.csv\" will be saved after the following program\u001b[33m\n"
     ]
    }
   ],
   "source": [
    "# Define parameters\n",
    "KEITHLEY_ADDRESS = 'USB0::0x05E6::0x2450::04491080::INSTR'\n",
    "voltage = 0.001\n",
    "delay_time = 0.1 # sec, minimum is 0.5\n",
    "duration = 10 # sec\n",
    "print(f'\\033[33mEnter the file name [XXX], it will be \"{project_dir}/XXX.csv\"')\n",
    "file_name = input('')\n",
    "filename = os.path.join(project_dir, file_name + '.csv')\n",
    "\n",
    "# Check if the project directory exists\n",
    "overwrite = '' #initialize\n",
    "if os.path.exists(filename):\n",
    "    print(f'\\033[33m\\nThe file \"{file_name}.csv\" already exists.')\n",
    "    overwrite = int_ask('Do you want to overwrite it? Yes(0) or No(1)\\n')\n",
    "    if overwrite == 0:\n",
    "        print('\\033[33mOkay, the program will overwrite the file.\\n\\033[33m')\n",
    "    elif overwrite == 1:\n",
    "        file_name2 = file_name\n",
    "        while file_name2 == file_name:\n",
    "            file_name2 = input(f'Enter the file name except for \"{file_name}\":\\n')\n",
    "        filename = os.path.join(project_dir, file_name2 + '.csv')\n",
    "\n",
    "# Confirmation\n",
    "if overwrite == 1:\n",
    "    print(f'\\033[33mThe file \"{file_name2}.csv\" will be saved after the following program\\033[33m')\n",
    "elif overwrite == 0:\n",
    "    pass\n",
    "else:\n",
    "    print(f'\\033[33mThe file \"{file_name}.csv\" will be saved after the following program\\033[33m')"
   ]
  },
  {
   "cell_type": "markdown",
   "id": "6249e4e8-40e5-472d-baeb-d2510a62f567",
   "metadata": {
    "tags": []
   },
   "source": [
    "## 3rd: Run the Ketithley"
   ]
  },
  {
   "cell_type": "code",
   "execution_count": 7,
   "id": "c6ff1301-6692-4f0d-a81e-5d93fe5cd37d",
   "metadata": {},
   "outputs": [
    {
     "data": {
      "image/png": "[encoded data removed]",
      "text/plain": [
       "<Figure size 864x576 with 1 Axes>"
      ]
     },
     "metadata": {
      "needs_background": "light"
     },
     "output_type": "display_data"
    },
    {
     "data": {
      "image/png": "[encoded data removed]",
      "text/plain": [
       "<Figure size 864x576 with 1 Axes>"
      ]
     },
     "metadata": {
      "needs_background": "light"
     },
     "output_type": "display_data"
    },
    {
     "name": "stdout",
     "output_type": "stream",
     "text": [
      "Program completed\n"
     ]
    }
   ],
   "source": [
    "import pyvisa as visa\n",
    "import time\n",
    "import csv\n",
    "import datetime\n",
    "import sys\n",
    "import matplotlib.pyplot as plt\n",
    "from IPython.display import display, clear_output\n",
    "from utilities import current_set\n",
    "\n",
    "\n",
    "# Check Parameters\n",
    "print('***************   Check these parameters   *************** ')\n",
    "print(f'File name: {file_name}.csv')\n",
    "print(f'Voltage: {source_voltage} V')\n",
    "print(f'Delay time: {delay_time} s')\n",
    "print(f'Duration: {duration} s')\n",
    "\n",
    "# Make sure if you start or not\n",
    "START = input('\\nPress Enter to Start')\n",
    "if START == '':\n",
    "    print(\"\\n Let's get started :)\")\n",
    "    pass\n",
    "else:\n",
    "    sys.exit(0)\n",
    "\n",
    "# Create the project directory if it does not exist\n",
    "make_folder(project_dir)\n",
    "# Create the project directory if it does not exist\n",
    "make_folder(fig_dir)\n",
    "    \n",
    "# Open a connection to the Keithley 2450\n",
    "try:\n",
    "    rm = visa.ResourceManager()\n",
    "    keithley = rm.open_resource(KEITHLEY_ADDRESS)\n",
    "    keithley.write('*RST')\n",
    "except:\n",
    "    print(\"Error: Could not connect to instrument\")\n",
    "    sys.exit(0)\n",
    "\n",
    "# Set the voltage source\n",
    "keithley.write('TRACE:MAKE \"VMEAS\", 11; :TRACE:MAKE \"CMEAS\", 11')\n",
    "keithley.write(\"COUN 1\")\n",
    "keithley.write(f'TRACE:CLEAR \"CMEAS\"; :TRACE:CLEAR \"VMEAS\"; :SENSE:FUNCtion \"CURRent\"; :SOURCE:VOLTAGE:LEVEL {voltage}')\n",
    "\n",
    "# Set the voltage source output on\n",
    "keithley.write('OUTPUT ON; :TRACE:TRIG \"CMEAS\"; :SENSE:FUNCtion \"VOLTage\"; :TRACE:TRIG \"VMEAS\"')\n",
    "\n",
    "try:\n",
    "    # Initialize the time and current arrays\n",
    "    times = []\n",
    "    currents = []\n",
    "    voltages = []\n",
    "\n",
    "    # Set up the real-time plot\n",
    "    plt.ion()\n",
    "    fig = plt.figure(figsize=(12,8))\n",
    "    plt.rcParams[\"font.size\"] = 20\n",
    "    plt.xlabel('Time (s)')\n",
    "    plt.ylabel('Current (A)')\n",
    "\n",
    "    # Start the measurement and real-time plot\n",
    "    start_time = time.perf_counter()\n",
    "    while (time.perf_counter() - start_time) < duration:\n",
    "        round_start = time.perf_counter()\n",
    "        current = float(keithley.query('FETCH? \"CMEAS\"'))\n",
    "        voltage = float(keithley.query('FETCH? \"VMEAS\"'))\n",
    "        times.append((time.perf_counter() - start_time))\n",
    "        currents.append(current)\n",
    "        voltages.append(voltage)\n",
    "        plot_start = time.perf_counter()\n",
    "        clear_output(wait=True)\n",
    "        print(f'Time: {times[-1]:.2f} s / {duration} s')\n",
    "        print(f'Voltage: {voltage:.4g} V')\n",
    "        print(f'Current: {current:.4g} A')\n",
    "        # ylabel, currents_plot = current_set(currents[-100:])\n",
    "        # plt.plot(times[-100:], currents_plot[-100:], linestyle='-', marker='o', color='blue')\n",
    "        # plt.xlabel('Time (s)', fontsize=18)\n",
    "        # plt.ylabel(ylabel, fontsize=18)\n",
    "        # plt.xticks(fontsize=16)\n",
    "        # plt.yticks(fontsize=16)\n",
    "        # plt.grid(True)\n",
    "        # display(fig)\n",
    "        print(f'Round time: {time.perf_counter()-round_start} s')\n",
    "        print(f'Plot time: {time.perf_counter()-plot_start} s')\n",
    "\n",
    "        if (delay_time - (time.perf_counter() - round_start)) > 0:\n",
    "            time.sleep(delay_time - (time.perf_counter() - round_start))\n",
    "            print(f'Real Round time: {time.perf_counter()-round_start} s')\n",
    "        else:\n",
    "            pass\n",
    "except:\n",
    "    print(Exception)\n",
    "    keithley.write('OUTPUT OFF')\n",
    "    sys.exit(0)\n",
    "\n",
    "# Set the voltage source output off\n",
    "keithley.write('OUTPUT OFF')\n",
    "\n",
    "# Create a CSV file for saving the data\n",
    "with open(filename, 'w', newline='') as csvfile:\n",
    "    csvwriter = csv.writer(csvfile)\n",
    "    csvwriter.writerow(['Time (s)', 'Current (A)', 'Voltage (V)'])\n",
    "    for i in range(len(times)):\n",
    "        csvwriter.writerow([times[i], currents[i], voltages[i]])\n",
    "\n",
    "# Check that the CSV file was created successfully\n",
    "try:\n",
    "    with open(filename, 'r') as csvfile:\n",
    "        pass\n",
    "except:\n",
    "    print(\"Error: Could not create CSV file\")\n",
    "\n",
    "# Close the connection to the Keithley 2450\n",
    "keithley.close()\n",
    "\n",
    "clear_output(wait=True)\n",
    "# Save the figure\n",
    "if overwrite == 1:\n",
    "    fig_path = os.path.join(fig_dir, file_name2 + '.png')\n",
    "else:\n",
    "    fig_path = os.path.join(fig_dir, file_name + '.png')\n",
    "\n",
    "fig2 = plt.figure(figsize=(12,8))\n",
    "plt.rcParams[\"font.size\"] = 20\n",
    "ylabel, currents_plot = current_set(currents)\n",
    "plt.plot(times, currents_plot, linestyle='-', marker='o', color='blue')\n",
    "plt.xlabel('Time (s)')\n",
    "plt.ylabel(ylabel)    \n",
    "plt.show()\n",
    "fig2.savefig(fig_path, transparent = True)\n",
    "\n",
    "print(\"Program completed\")"
   ]
  },
  {
   "cell_type": "code",
   "execution_count": null,
   "id": "dd902733-9790-464b-973b-046f82f62b1e",
   "metadata": {},
   "outputs": [],
   "source": [
    "# Set the voltage source output off\n",
    "keithley.write('OUTPUT OFF')"
   ]
  },
  {
   "cell_type": "code",
   "execution_count": null,
   "id": "12af0fde-763c-4156-9710-a264e376ed41",
   "metadata": {},
   "outputs": [],
   "source": [
    "## To check the Keithley address, use this code\n",
    "\n",
    "from pymeasure.instruments import list_resources\n",
    "list_resources()"
   ]
  },
  {
   "cell_type": "markdown",
   "id": "4c0b23e8-2360-4639-96e3-55884bf336b3",
   "metadata": {},
   "source": [
    "## Make a combined figure"
   ]
  },
  {
   "cell_type": "code",
   "execution_count": null,
   "id": "a0d150f7-08cb-4b60-8b59-cbb8e57af563",
   "metadata": {},
   "outputs": [],
   "source": [
    "import glob\n",
    "import os\n",
    "data_list = glob.glob(f'{project_dir}/*.csv')\n",
    "csv_list = []\n",
    "csv_list.sort()\n",
    "\n",
    "for i, file in enumerate(data_list):\n",
    "    csv_list.append(os.path.splitext(os.path.basename(file))[0])\n",
    "    print(f'{i:02}: {os.path.splitext(os.path.basename(file))[0]}')"
   ]
  },
  {
   "cell_type": "code",
   "execution_count": null,
   "id": "ba04ea3c-d38d-4191-89c8-b5b570ae1a29",
   "metadata": {},
   "outputs": [],
   "source": [
    "plot_index = [0,2,3] # Chose the numbers\n",
    "\n",
    "save = False\n",
    "\n",
    "if save:\n",
    "    fig_name = input('filename')\n",
    "\n",
    "plot_list = []\n",
    "for i in range(len(plot_index)):\n",
    "    plot_list.append(csv_list[plot_index[i]])\n",
    "\n",
    "for i, file in enumerate(plot_list):\n",
    "    print(f'{i}: {file}')\n",
    "    \n",
    "import pandas as pd\n",
    "\n",
    "figure = plt.figure(figsize=(12,8))\n",
    "plt.rcParams[\"font.size\"] = 20\n",
    "plt.xlabel('Time (s)')\n",
    "plt.ylabel('Current (A)')\n",
    "\n",
    "for file in plot_list:\n",
    "    df = pd.read_csv(f'{project_dir}/{file}.csv')\n",
    "    plt.plot(df['Time (s)'], df['Current (A)'], linestyle='-', marker='o', label = file)\n",
    "\n",
    "plt.legend()\n",
    "plt.show()\n",
    "\n",
    "# Create the project directory if it does not exist\n",
    "if save:\n",
    "    fig_com_dir = f\"{fig_dir}/combined\"\n",
    "    make_folder(fig_com_dir)\n",
    "    fig_com_path = os.path.join(fig_com_dir, fig_name + '.png')\n",
    "    figure.savefig(fig_com_path, transparent = True)"
   ]
  },
  {
   "cell_type": "code",
   "execution_count": null,
   "id": "326073b5-4c05-43ae-9af2-6213943284f3",
   "metadata": {},
   "outputs": [],
   "source": [
    "plot_index = [3,5,7,11,16,14] # Chose the numbers\n",
    "fig_name = 'low-dose-pressureeffects-small-col-modified'\n",
    "\n",
    "plot_list = []\n",
    "for i in range(len(plot_index)):\n",
    "    plot_list.append(csv_list[plot_index[i]])\n",
    "\n",
    "for i, file in enumerate(plot_list):\n",
    "    print(f'{i}: {file}')\n",
    "    \n",
    "import pandas as pd\n",
    "\n",
    "figure = plt.figure(figsize=(12,8))\n",
    "plt.rcParams[\"font.size\"] = 20\n",
    "plt.xlabel('Time (s)')\n",
    "plt.ylabel('Current (A)')\n",
    "\n",
    "for file in plot_list:\n",
    "    df = pd.read_csv(f'{project_dir}/{file}.csv')\n",
    "    x=df['Time (s)'].to_list()\n",
    "    y=df['Current (A)'].to_list()\n",
    "    x = [n-60 for n in x]\n",
    "    y = [n/0.36*1e12 for n in y] #pA/cm2\n",
    "    plt.plot(x, y, linestyle='-', marker='o', label = file)\n",
    "\n",
    "plt.ylabel('J (pA/cm2)')\n",
    "plt.xlim(0,60)\n",
    "plt.ylim(-100,600)\n",
    "plt.legend()\n",
    "plt.show()\n",
    "\n",
    "# Create the project directory if it does not exist\n",
    "fig_com_dir = f\"{fig_dir}/combined\"\n",
    "make_folder(fig_com_dir)\n",
    "fig_com_path = os.path.join(fig_com_dir, fig_name + '.png')\n",
    "figure.savefig(fig_com_path, transparent = True)"
   ]
  }
 ],
 "metadata": {
  "kernelspec": {
   "display_name": "Python 3 (ipykernel)",
   "language": "python",
   "name": "python3"
  },
  "language_info": {
   "codemirror_mode": {
    "name": "ipython",
    "version": 3
   },
   "file_extension": ".py",
   "mimetype": "text/x-python",
   "name": "python",
   "nbconvert_exporter": "python",
   "pygments_lexer": "ipython3",
   "version": "3.9.12"
  }
 },
 "nbformat": 4,
 "nbformat_minor": 5
}
