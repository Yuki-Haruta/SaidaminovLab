{
 "cells": [
  {
   "cell_type": "code",
   "execution_count": 22,
   "id": "42b55c38-a731-4268-b5a7-6ad62ace50f2",
   "metadata": {},
   "outputs": [
    {
     "name": "stdout",
     "output_type": "stream",
     "text": [
      "0.00353850000010425\n"
     ]
    },
    {
     "data": {
      "text/plain": [
       "'109\\n'"
      ]
     },
     "execution_count": 22,
     "metadata": {},
     "output_type": "execute_result"
    }
   ],
   "source": [
    "import pyvisa as visa\n",
    "import time\n",
    "\n",
    "KEITHLEY_ADDRESS = 'USB0::0x05E6::0x2450::04491080::INSTR'\n",
    "\n",
    "# Open a connection to the Keithley 2450\n",
    "try:\n",
    "    rm = visa.ResourceManager()\n",
    "    keithley = rm.open_resource(KEITHLEY_ADDRESS)\n",
    "except:\n",
    "    print(\"Error: Could not connect to instrument\")\n",
    "    sys.exit(0)\n",
    "\n",
    "keithley.write('*RST')\n",
    "keithley.write(':SOUR:FUNC VOLT') # set to source voltage\n",
    "keithley.write(':SOUR:VOLT 0.01') # set source voltage (V)\n",
    "keithley.write(':SOUR:VOLT:ILIMIT 0.01') #set current limit (A)\n",
    "keithley.write(':SENSE:FUNC \"CURR\"')\n",
    "keithley.write(':CURR:RANG:AUTO ON')\n",
    "keithley.write(':SENSE:CURR:NPLC 1')\n",
    "keithley.write(':TRIG:LOAD \"DurationLoop\", 30, 0.2')\n",
    "start = time.perf_counter()\n",
    "keithley.write(':INIT')\n",
    "keithley.write('*WAI')\n",
    "keithley.write(':TRAC:ACT? \"defbuffer1\"')\n",
    "keithley.write(':TRAC:DATA? 1, 30, \"defbuffer1\", READ, REL')\n",
    "keithley.write(':SOUR:VOLT 0')\n",
    "keithley.write(':OUTP ON')\n",
    "keithley.write(':SOUR:VOLT:DEL 2')\n",
    "keithley.write(':OUTP OFF')\n",
    "duration = time.perf_counter()-start\n",
    "print(duration)\n",
    "keithley.write(':FETC?')\n",
    "data = keithley.read()\n",
    "data"
   ]
  },
  {
   "cell_type": "code",
   "execution_count": 23,
   "id": "d7137619-40d5-4047-b7a0-33e246f43eef",
   "metadata": {},
   "outputs": [
    {
     "data": {
      "text/plain": [
       "'1.987322E-04,0.000000E+00,1.987369E-04,2.692829E-01,1.987415E-04,5.385641E-01,1.987544E-04,8.078377E-01,1.987406E-04,1.077119E+00,1.987476E-04,1.346394E+00,1.987546E-04,1.615656E+00,1.987481E-04,1.884939E+00,1.987529E-04,2.154203E+00,1.987385E-04,2.423491E+00,1.987445E-04,2.692776E+00,1.987438E-04,2.962053E+00,1.987353E-04,3.231319E+00,1.987487E-04,3.500590E+00,1.987524E-04,3.769867E+00,1.987479E-04,4.039140E+00,1.987538E-04,4.308407E+00,1.987567E-04,4.577691E+00,1.987670E-04,4.846971E+00,1.987530E-04,5.116239E+00,1.987618E-04,5.385517E+00,1.987475E-04,5.654791E+00,1.987609E-04,5.924077E+00,1.987568E-04,6.193362E+00,1.987554E-04,6.462647E+00,1.987652E-04,6.731921E+00,1.987705E-04,7.001189E+00,1.987476E-04,7.270463E+00,1.987600E-04,7.539742E+00,1.987535E-04,7.809017E+00\\n'"
      ]
     },
     "execution_count": 23,
     "metadata": {},
     "output_type": "execute_result"
    }
   ],
   "source": [
    "keithley.write(':FETC?')\n",
    "data = keithley.read()\n",
    "data"
   ]
  },
  {
   "cell_type": "code",
   "execution_count": 17,
   "id": "4f771e20-99d6-492c-a2b1-59be8ea95496",
   "metadata": {},
   "outputs": [],
   "source": [
    "import csv\n",
    "# Split the data into rows\n",
    "rows = data.strip().split('\\n')\n",
    "\n",
    "# Write the data to a CSV file\n",
    "with open('measurement_data.csv', 'w', newline='') as csvfile:\n",
    "    csvwriter = csv.writer(csvfile)\n",
    "    \n",
    "    # Write a header row if needed\n",
    "    # csvwriter.writerow([\"Column1\", \"Column2\"])  # Replace with your column names\n",
    "    \n",
    "    for row in rows:\n",
    "        values = row.split(',')\n",
    "        csvwriter.writerow(values)"
   ]
  },
  {
   "cell_type": "code",
   "execution_count": null,
   "id": "d8cc4d0f-3aae-4737-b667-8b83f65e6086",
   "metadata": {},
   "outputs": [],
   "source": [
    "import csv\n",
    "\n",
    "# Assuming you have already set up communication and configured the sourcemeter\n",
    "\n",
    "# Fetch data from the buffer\n",
    "# Replace with the actual SCPI command to fetch data from your sourcemeter\n",
    "# For example, if you're using GPIB communication:\n",
    "# sourcemeter.write(\":FETC?\")  # Send command to fetch data\n",
    "# data = sourcemeter.read()    # Read the data from the sourcemeter\n",
    "\n",
    "# Example data (replace with your fetched data)\n",
    "data = \"1.23,2.45\\n3.67,4.89\\n5.12,6.34\\n\"\n",
    "\n",
    "# Split the data into rows\n",
    "rows = data.strip().split('\\n')\n",
    "\n",
    "# Write the data to a CSV file\n",
    "with open('measurement_data.csv', 'w', newline='') as csvfile:\n",
    "    csvwriter = csv.writer(csvfile)\n",
    "    \n",
    "    # Write a header row if needed\n",
    "    # csvwriter.writerow([\"Column1\", \"Column2\"])  # Replace with your column names\n",
    "    \n",
    "    for row in rows:\n",
    "        values = row.split(',')\n",
    "        csvwriter.writerow(values)"
   ]
  }
 ],
 "metadata": {
  "kernelspec": {
   "display_name": "Python 3 (ipykernel)",
   "language": "python",
   "name": "python3"
  },
  "language_info": {
   "codemirror_mode": {
    "name": "ipython",
    "version": 3
   },
   "file_extension": ".py",
   "mimetype": "text/x-python",
   "name": "python",
   "nbconvert_exporter": "python",
   "pygments_lexer": "ipython3",
   "version": "3.9.12"
  }
 },
 "nbformat": 4,
 "nbformat_minor": 5
}
