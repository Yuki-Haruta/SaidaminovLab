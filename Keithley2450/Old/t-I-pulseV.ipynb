{
 "cells": [
  {
   "cell_type": "markdown",
   "id": "1cbbaed2-6a03-4e6f-9066-efd5a1500622",
   "metadata": {
    "tags": []
   },
   "source": [
    "## 1st: create a folder"
   ]
  },
  {
   "cell_type": "code",
   "execution_count": null,
   "id": "0b83326f-3f9e-4a4f-aaaa-497d11b25dd1",
   "metadata": {},
   "outputs": [],
   "source": [
    "import datetime\n",
    "import os\n",
    "import sys\n",
    "from utilities import make_folder, int_ask\n",
    "\n",
    "# Set the project namea\n",
    "# Set the project namea\n",
    "user_list = os.listdir('/Users/lznus/Desktop/Data-Keithley/')\n",
    "for i, user in enumerate(user_list):\n",
    "    print(f'{i+1:02}: {user}')\n",
    "user_ID = int(input('Select your user ID'))\n",
    "user_name = user_list[user_ID-1]\n",
    "project_name = input('Enter project name: ')\n",
    "while project_name == '':\n",
    "    print('Error: Project name cannot be empty')\n",
    "    project_name = input('Enter project name: ')\n",
    "\n",
    "# Get the date\n",
    "today = datetime.datetime.today().strftime('%y%m%d')\n",
    "project_dir = f\"/Users/lznus/Desktop/Data-Keithley/{user_name}/{today}_tI-PULSE_{project_name}\"\n",
    "\n",
    "# Create the project directory if it does not exist\n",
    "make_folder(project_dir)\n",
    "# Create the project directory if it does not exist\n",
    "fig_dir = f\"/Users/lznus/Desktop/Data-Keithley/{user_name}/{today}_tI-PULSE_{project_name}/figures\"\n",
    "make_folder(fig_dir)"
   ]
  },
  {
   "cell_type": "markdown",
   "id": "45403a6b-ca2f-4a64-bd36-48d55c3263d2",
   "metadata": {
    "tags": []
   },
   "source": [
    "## 2nd: set parameters and make a file"
   ]
  },
  {
   "cell_type": "code",
   "execution_count": null,
   "id": "0db61252-0f2a-4c1b-a275-7dd8585987cb",
   "metadata": {},
   "outputs": [],
   "source": [
    "# Define parameters\n",
    "KEITHLEY_ADDRESS = 'USB0::0x05E6::0x2450::04491080::INSTR'\n",
    "source_voltage = -4.6 # V\n",
    "delay_time = 10 #s\n",
    "t_ON = 0.01 #s\n",
    "duration = 560 # sec\n",
    "\n",
    "file_name = input(f'Enter the file name [XXX], it will be \"{project_dir}/XXX.csv\"\\n  [XXX] = ')\n",
    "filename = os.path.join(project_dir, file_name + '.csv')\n",
    "\n",
    "# Check if the project directory exists\n",
    "overwrite = '' #initialize\n",
    "if os.path.exists(filename):\n",
    "    print(f'\\033[33m\\nThe file \"{file_name}.csv\" already exists.')\n",
    "    overwrite = int_ask('Do you want to overwrite it? Yes(0) or No(1)\\n')\n",
    "    if overwrite == 0:\n",
    "        print('\\033[33mOkay, the program will overwrite the file.\\n\\033[33m')\n",
    "    elif overwrite == 1:\n",
    "        file_name2 = file_name\n",
    "        while file_name2 == file_name:\n",
    "            file_name2 = input(f'Enter the file name except for \"{file_name}\":\\n')\n",
    "        filename = os.path.join(project_dir, file_name2 + '.csv')\n",
    "\n",
    "# Confirmation\n",
    "if overwrite == 1:\n",
    "    print(f'\\033[33mThe file \"{file_name2}.csv\" will be saved after the following program\\033[33m')\n",
    "elif overwrite == 0:\n",
    "    pass\n",
    "else:\n",
    "    print(f'\\033[33mThe file \"{file_name}.csv\" will be saved after the following program\\033[33m')"
   ]
  },
  {
   "cell_type": "markdown",
   "id": "6249e4e8-40e5-472d-baeb-d2510a62f567",
   "metadata": {
    "tags": []
   },
   "source": [
    "## 3rd: Run the Ketithley"
   ]
  },
  {
   "cell_type": "code",
   "execution_count": null,
   "id": "c6ff1301-6692-4f0d-a81e-5d93fe5cd37d",
   "metadata": {},
   "outputs": [],
   "source": [
    "import pyvisa as visa\n",
    "import time\n",
    "import csv\n",
    "import datetime\n",
    "import sys\n",
    "import matplotlib.pyplot as plt\n",
    "from IPython.display import display, clear_output\n",
    "from utilities import current_set\n",
    "\n",
    "\n"
   ]
  },
  {
   "cell_type": "code",
   "execution_count": null,
   "id": "12af0fde-763c-4156-9710-a264e376ed41",
   "metadata": {},
   "outputs": [],
   "source": [
    "## To check the Keithley address, use this code\n",
    "\n",
    "from pymeasure.instruments import list_resources\n",
    "list_resources()"
   ]
  },
  {
   "cell_type": "markdown",
   "id": "4c0b23e8-2360-4639-96e3-55884bf336b3",
   "metadata": {},
   "source": [
    "## Make a combined figure"
   ]
  },
  {
   "cell_type": "code",
   "execution_count": null,
   "id": "a0d150f7-08cb-4b60-8b59-cbb8e57af563",
   "metadata": {},
   "outputs": [],
   "source": [
    "import glob\n",
    "import os\n",
    "data_list = glob.glob(f'{project_dir}/*.csv')\n",
    "csv_list = []\n",
    "csv_list.sort()\n",
    "\n",
    "for i, file in enumerate(data_list):\n",
    "    csv_list.append(os.path.splitext(os.path.basename(file))[0])\n",
    "    print(f'{i:02}: {os.path.splitext(os.path.basename(file))[0]}')"
   ]
  },
  {
   "cell_type": "code",
   "execution_count": null,
   "id": "ba04ea3c-d38d-4191-89c8-b5b570ae1a29",
   "metadata": {},
   "outputs": [],
   "source": [
    "plot_index = [0,1,2,3] # Chose the numbers\n",
    "fig_name = input('filename')\n",
    "\n",
    "plot_list = []\n",
    "for i in range(len(plot_index)):\n",
    "    plot_list.append(csv_list[plot_index[i]])\n",
    "\n",
    "for i, file in enumerate(plot_list):\n",
    "    print(f'{i}: {file}')\n",
    "    \n",
    "import pandas as pd\n",
    "\n",
    "figure = plt.figure(figsize=(12,8))\n",
    "plt.rcParams[\"font.size\"] = 20\n",
    "plt.xlabel('Time (s)')\n",
    "plt.ylabel('Current (A)')\n",
    "\n",
    "for file in plot_list:\n",
    "    df = pd.read_csv(f'{project_dir}/{file}.csv')\n",
    "    plt.plot(df['Time (s)'], df['Current (A)'], linestyle='-', marker='o', label = file)\n",
    "\n",
    "# plt.legend()\n",
    "plt.show()\n",
    "\n",
    "# Create the project directory if it does not exist\n",
    "fig_com_dir = f\"{fig_dir}/combined\"\n",
    "make_folder(fig_com_dir)\n",
    "fig_com_path = os.path.join(fig_com_dir, fig_name + '.png')\n",
    "figure.savefig(fig_com_path, transparent = True)"
   ]
  },
  {
   "cell_type": "code",
   "execution_count": null,
   "id": "326073b5-4c05-43ae-9af2-6213943284f3",
   "metadata": {},
   "outputs": [],
   "source": [
    "plot_index = [3,5,7,11,16,14] # Chose the numbers\n",
    "fig_name = 'low-dose-pressureeffects-small-col-modified'\n",
    "\n",
    "plot_list = []\n",
    "for i in range(len(plot_index)):\n",
    "    plot_list.append(csv_list[plot_index[i]])\n",
    "\n",
    "for i, file in enumerate(plot_list):\n",
    "    print(f'{i}: {file}')\n",
    "    \n",
    "import pandas as pd\n",
    "\n",
    "figure = plt.figure(figsize=(12,8))\n",
    "plt.rcParams[\"font.size\"] = 20\n",
    "plt.xlabel('Time (s)')\n",
    "plt.ylabel('Current (A)')\n",
    "\n",
    "for file in plot_list:\n",
    "    df = pd.read_csv(f'{project_dir}/{file}.csv')\n",
    "    x=df['Time (s)'].to_list()\n",
    "    y=df['Current (A)'].to_list()\n",
    "    x = [n-60 for n in x]\n",
    "    y = [n/0.36*1e12 for n in y] #pA/cm2\n",
    "    plt.plot(x, y, linestyle='-', marker='o', label = file)\n",
    "\n",
    "plt.ylabel('J (pA/cm2)')\n",
    "plt.xlim(0,60)\n",
    "plt.ylim(-100,600)\n",
    "plt.legend()\n",
    "plt.show()\n",
    "\n",
    "# Create the project directory if it does not exist\n",
    "fig_com_dir = f\"{fig_dir}/combined\"\n",
    "make_folder(fig_com_dir)\n",
    "fig_com_path = os.path.join(fig_com_dir, fig_name + '.png')\n",
    "figure.savefig(fig_com_path, transparent = True)"
   ]
  }
 ],
 "metadata": {
  "kernelspec": {
   "display_name": "Python 3 (ipykernel)",
   "language": "python",
   "name": "python3"
  },
  "language_info": {
   "codemirror_mode": {
    "name": "ipython",
    "version": 3
   },
   "file_extension": ".py",
   "mimetype": "text/x-python",
   "name": "python",
   "nbconvert_exporter": "python",
   "pygments_lexer": "ipython3",
   "version": "3.9.12"
  }
 },
 "nbformat": 4,
 "nbformat_minor": 5
}
