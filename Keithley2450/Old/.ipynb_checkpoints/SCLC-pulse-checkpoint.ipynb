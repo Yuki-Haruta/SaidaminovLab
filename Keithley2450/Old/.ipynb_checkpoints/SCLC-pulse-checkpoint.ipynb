{
 "cells": [
  {
   "cell_type": "code",
   "execution_count": 1,
   "id": "127ee6aa-2549-4e01-8be0-75414bd7e36c",
   "metadata": {},
   "outputs": [
    {
     "name": "stdout",
     "output_type": "stream",
     "text": [
      "01: Paul\n",
      "02: Ren\n",
      "03: Soumya\n",
      "04: Yuki\n"
     ]
    },
    {
     "name": "stdin",
     "output_type": "stream",
     "text": [
      "Select your user ID 4\n"
     ]
    },
    {
     "name": "stdout",
     "output_type": "stream",
     "text": [
      "\u001b[31mCreate a new folder (0) or Use an existing folder (1)\u001b[33m\n"
     ]
    },
    {
     "name": "stdin",
     "output_type": "stream",
     "text": [
      " 1\n"
     ]
    },
    {
     "name": "stdout",
     "output_type": "stream",
     "text": [
      "\u001b[33m01: 221102\u001b[33m\n",
      "\u001b[33m02: 221107\u001b[33m\n",
      "\u001b[33m03: 221202\u001b[33m\n",
      "\u001b[33m04: 221206\u001b[33m\n",
      "\u001b[33m05: 221213\u001b[33m\n",
      "\u001b[33m06: 221219\u001b[33m\n",
      "\u001b[33m07: 230426_vacuum-chamber-test\u001b[33m\n",
      "\u001b[33m08: 230427_vacuum-chamber-test-11.9uGys\u001b[33m\n",
      "\u001b[33m09: 230427_vacuum-chamber-test-1Torr-various-dose-rate\u001b[33m\n",
      "\u001b[33m10: 230427_vacuum-chamber-test-9.68mGys\u001b[33m\n",
      "\u001b[33m11: 230427_vacuum-chamber-test-one-glass\u001b[33m\n",
      "\u001b[33m12: 230427_vacuum-leaking-9.68mGys\u001b[33m\n",
      "\u001b[33m13: 230428_test\u001b[33m\n",
      "\u001b[33m14: 230501_tI_221207-MAPbBr3\u001b[33m\n",
      "\u001b[33m15: 230501_tI_vacuum-test-with-large-collimator\u001b[33m\n",
      "\u001b[33m16: 230502_tI_221207-air\u001b[33m\n",
      "\u001b[33m17: 230502_tI_Ahmed-MAPbBr2-no-passivation\u001b[33m\n",
      "\u001b[33m18: 230502_tI_program-test\u001b[33m\n",
      "\u001b[33m19: 230509_IV_Ahmed-Au-MAPbBr3-Ga\u001b[33m\n",
      "\u001b[33m20: 230509_tI_Ahmed-Au-MAPbBr3-Ga\u001b[33m\n",
      "\u001b[33m21: 230512_IV_BiPhPbBr\u001b[33m\n",
      "\u001b[33m22: 230512_tI_Ahmed-MAPbBr3-2nd-measurement\u001b[33m\n",
      "\u001b[33m23: 230512_tI_BiPhPbBr\u001b[33m\n",
      "\u001b[33m24: 230526_IV_02vs05_MAPbBr3\u001b[33m\n",
      "\u001b[33m25: 230526_tI_0.2-0.5-MAPbBr3_Cu-BCP-C60_Au\u001b[33m\n",
      "\u001b[33m26: 230530\u001b[33m\n",
      "\u001b[33m27: 230530_IV_MAPbBr3-SCLC-Continuous\u001b[33m\n",
      "\u001b[33m28: 230530_IV_mu-tau-test\u001b[33m\n",
      "\u001b[33m29: 230530_SCLC-pulse_MAPbBr3-first-try\u001b[33m\n",
      "\u001b[33m30: 230530_tI_mu-tau-test\u001b[33m\n",
      "\u001b[33m31: 230530_tI_mu-tau-test-pulse\u001b[33m\n",
      "\u001b[33m32: 230531_tI_MAPbBr3-Hecht-1SUN\u001b[33m\n",
      "\u001b[33m33: 230602_IV_Au-MPB-Ga_polished_02-05\u001b[33m\n",
      "\u001b[33m34: 230602_tI_Au-MPB-Ga_polished_02-05\u001b[33m\n",
      "\u001b[33m35: 230613_ion-migration_ion-migration-test\u001b[33m\n",
      "\u001b[33m36: 230615_IV-pulse_Au-MPB-C60-BCP-Cu\u001b[33m\n",
      "\u001b[33m37: 230615_tI_Au-MPB-C60-BCP-Cu\u001b[33m\n",
      "\u001b[33m38: 230615_tI_Au-MPB-C60-BCP-Cu_polished\u001b[33m\n",
      "\u001b[33m39: 230618_SCLC-pulse_test\u001b[33m\n",
      "\u001b[33m40: 230621_SCLC-pulse_0\u001b[33m\n",
      "\u001b[33m41: 230621_SCLC-pulse_2\u001b[33m\n",
      "\u001b[33m42: 230621_SCLC-pulse_3\u001b[33m\n",
      "\u001b[33m43: 230621_SCLC-pulse_5\u001b[33m\n",
      "\u001b[33m44: 230621_SCLC-pulse_7\u001b[33m\n",
      "\u001b[33m45: 230621_SCLC-pulse_8\u001b[33m\n",
      "\u001b[33m46: 230621_SCLC-pulse_9\u001b[33m\n",
      "\u001b[33m47: 230621_tI-PULSE_Au-MPB-C60-BCP-Cu\u001b[33m\n",
      "\u001b[33m48: 230621_tI_Air-ionization\u001b[33m\n",
      "\u001b[33m49: 230621_tI_test\u001b[33m\n",
      "\u001b[33m50: 230704_SCLC-pulse_testx1\u001b[33m\n",
      "\u001b[33m51: 230704_SCLC-pulse_testx3\u001b[33m\n",
      "\u001b[33m52: 230704_SCLC-pulse_testx5\u001b[33m\n",
      "\u001b[33m53: 230704_SCLC-pulse_textx2\u001b[33m\n",
      "\u001b[33m54: 230704_SCLC-pulse_textx4\u001b[33m\n",
      "\u001b[33m55: 230704_tI-PULSE_testx10\u001b[33m\n",
      "\u001b[33m56: 230817_tI_Air-ionization-2nd\u001b[33m\n",
      "\u001b[33m57: 230820_IV-CONTINUOUS_Air-ionization-pararell-plate\u001b[33m\n",
      "\u001b[33m58: 230820_tI_Air-ionization-Pararell-plate\u001b[33m\n",
      "\u001b[33m59: 230821_IV-CONTINUOUS_CsPbBr3-paste_Au-CPB-SnO2-ITO\u001b[33m\n",
      "\u001b[33m60: 230821_tI_CsPbBr3-paste-Au-CPB-SnO2-ITO\u001b[33m\n",
      "\u001b[33m61: 230822_tI_Air-ionization-3rd\u001b[33m\n",
      "\u001b[33m62: 230828_SCLC-pulse_test\u001b[33m\n",
      "\u001b[33m63: 230901_IV-CONTINUOUS_Ahmed-MAPbBr3-Under-X-RAY\u001b[33m\n",
      "\u001b[33m64: 230905_tI_tes\u001b[33m\n",
      "\u001b[31mSelect your folder ID\u001b[33m\n"
     ]
    },
    {
     "name": "stdin",
     "output_type": "stream",
     "text": [
      " 0\n"
     ]
    }
   ],
   "source": [
    "import datetime\n",
    "import os\n",
    "import sys\n",
    "from utilities import make_folder, int_ask\n",
    "\n",
    "# Set the project name\n",
    "user_list = os.listdir('/Users/lznus/Desktop/Data-Keithley/')\n",
    "for i, user in enumerate(user_list):\n",
    "    print(f'{i+1:02}: {user}')\n",
    "user_ID = int(input('Select your user ID'))\n",
    "user_name = user_list[user_ID-1]\n",
    "    \n",
    "# Get the date\n",
    "today = datetime.datetime.today().strftime('%y%m%d')\n",
    "\n",
    "# Set the project name if you need\n",
    "print('\\033[31mCreate a new folder (0) or Use an existing folder (1)\\033[33m')\n",
    "mkdir_option = int_ask('')\n",
    "\n",
    "if mkdir_option == 0:\n",
    "    print('\\033[31mEnter project name: \\033[33m')\n",
    "    project_name = input('')\n",
    "    while project_name == '':\n",
    "        print('\\033[31mError: Project name cannot be empty\\nEnter project name: \\033[33m')\n",
    "        project_name = input('')\n",
    "    # Define the name\n",
    "    project_dir = f\"/Users/lznus/Desktop/Data-Keithley/{user_name}/{today}_SCLC-pulse_{project_name}\"\n",
    "    fig_dir = f\"{project_dir}/figures\"\n",
    "    \n",
    "elif mkdir_option == 1:\n",
    "    folder_list = os.listdir(f\"/Users/lznus/Desktop/Data-Keithley/{user_name}\")\n",
    "    for i, folder in enumerate(folder_list):\n",
    "        print(f'\\033[33m{i+1:02}: {folder}\\033[33m')\n",
    "    print('\\033[31mSelect your folder ID\\033[33m')\n",
    "    folder_ID = int(input(''))\n",
    "    project_dir = f\"/Users/lznus/Desktop/Data-Keithley/{user_name}/{folder_list[folder_ID-1]}\"\n",
    "    fig_dir = f\"{project_dir}/figures\""
   ]
  },
  {
   "cell_type": "code",
   "execution_count": 2,
   "id": "e4dc991f-427c-491d-a0eb-eb1815b436fa",
   "metadata": {},
   "outputs": [
    {
     "name": "stdin",
     "output_type": "stream",
     "text": [
      "Enter file name:  test\n"
     ]
    },
    {
     "name": "stdout",
     "output_type": "stream",
     "text": [
      "Estimated total time is 4 sec\n",
      "Estimated finish time is 2023/09/05, 15:53:11\n"
     ]
    }
   ],
   "source": [
    "import numpy as np\n",
    "import datetime\n",
    "import os\n",
    "\n",
    "# Set the voltage source (V)\n",
    "start_log = -1.3 # 10**{start_log} V, 10**(-1.3)= 0.05 mV\n",
    "end_log = 2.3 # 10**{end_log} V, 10**(2.3) = 199.5 V\n",
    "log_step = 0.1 # V = 10**({start_log}+{step}i)\n",
    "source_log = np.arange(start_log, end_log + log_step, log_step)\n",
    "source_voltage = [10**n for n in source_log] # prepare voltage sources\n",
    "\n",
    "# Scan Direction\n",
    "direction = 'F' #F for forward, R for reverse, B for both (F, then R)\n",
    "\n",
    "# # for reverse scan\n",
    "source_voltage_R = []\n",
    "for x in reversed(source_voltage):\n",
    "    source_voltage_R.append(x)\n",
    "\n",
    "# Set the delay time (second)\n",
    "t_ON = 0.020 #s SET TO 0 FOR MAXIMUM SPEED (SMALLEST ON TIME)\n",
    "t_INT = 0.1 #s\n",
    "\n",
    "# Set the filename\n",
    "file_name = input('Enter file name: ')\n",
    "if direction == 'F' or direction == 'B':\n",
    "    filename = f'{project_dir}/{file_name}-F.csv'\n",
    "if direction == 'R' or direction == 'B':\n",
    "    filename_R = f'{project_dir}/{file_name}-F.csv'\n",
    "\n",
    "# Print the estimated time\n",
    "total_time = len(source_voltage) * (t_INT + t_ON)\n",
    "if direction == 'B':\n",
    "    total_time = total_time * 2\n",
    "if total_time < 60:\n",
    "    print(f'Estimated total time is {int(total_time)} sec')\n",
    "elif total_time >= 60 and total_time <= 3600:\n",
    "    print(f'Estimated total time is {int(total_time)/60} min')\n",
    "elif total_time > 3600:\n",
    "    print(f'Estimated total time is {int(total_time)/3600} hrs')\n",
    "    \n",
    "finish = datetime.datetime.now() + datetime.timedelta(seconds=total_time)\n",
    "print(f'Estimated finish time is {str(finish.strftime(\"%Y/%m/%d, %H:%M:%S\"))}')"
   ]
  },
  {
   "cell_type": "code",
   "execution_count": 3,
   "id": "80603042-74ef-4ee0-b1ba-50fb4504cf2d",
   "metadata": {},
   "outputs": [
    {
     "name": "stdout",
     "output_type": "stream",
     "text": [
      "Estimated finish time is 2023/09/05, 15:53:14\n",
      "Step: 37/37 steps\n",
      "t-ON: 0.0203 s\n",
      "Voltage: 199 V\n",
      "Current: 2.047e-10 A\n"
     ]
    },
    {
     "data": {
      "image/png": "[encoded data removed]",
      "text/plain": [
       "<Figure size 864x576 with 1 Axes>"
      ]
     },
     "metadata": {},
     "output_type": "display_data"
    },
    {
     "name": "stdout",
     "output_type": "stream",
     "text": [
      "Program completed at 2023/09/05, 15:53:47\n"
     ]
    },
    {
     "data": {
      "image/png": "[encoded data removed]",
      "text/plain": [
       "<Figure size 864x576 with 1 Axes>"
      ]
     },
     "metadata": {
      "needs_background": "light"
     },
     "output_type": "display_data"
    }
   ],
   "source": [
    "import pyvisa as visa\n",
    "import time\n",
    "import csv\n",
    "import datetime\n",
    "import sys\n",
    "import matplotlib.pyplot as plt\n",
    "from IPython.display import display, clear_output\n",
    "\n",
    "# Open a connection to the Keithley 2450\n",
    "try:\n",
    "    rm = visa.ResourceManager()\n",
    "    keithley = rm.open_resource('USB0::0x05E6::0x2450::04491080::INSTR')\n",
    "except:\n",
    "    print(\"Error: Could not connect to instrument\")\n",
    "    sys.exit(0)\n",
    "\n",
    "# Check Parameters\n",
    "print(f'File name: {file_name}.csv')\n",
    "finish = datetime.datetime.now() + datetime.timedelta(seconds=total_time)\n",
    "print(f'Estimated finish time is {str(finish.strftime(\"%Y/%m/%d, %H:%M:%S\"))}')\n",
    "\n",
    "# Make sure if you start or not\n",
    "START = input('Press Enter to Start')\n",
    "if START == '':\n",
    "    print(\"\\n Let's get started :)\")\n",
    "    pass\n",
    "else:\n",
    "    sys.exit(0)\n",
    "\n",
    "# Initialize the time and current arrays\n",
    "times = []\n",
    "t_ON_list = []\n",
    "t_OFF_list = []\n",
    "currents = []\n",
    "voltages = []\n",
    "\n",
    "num_steps = len(source_voltage)\n",
    "if direction == 'B':\n",
    "    num_steps = num_steps * 2\n",
    "# Set up the real-time plot\n",
    "plt.ion()\n",
    "fig = plt.figure(figsize=(12,8))\n",
    "plt.rcParams[\"font.size\"] = 20\n",
    "plt.xlabel('Voltage (V)')\n",
    "plt.ylabel('Current (A)')\n",
    "keithley.write('TRACE:MAKE \"VMEAS\", 11; :TRACE:MAKE \"CMEAS\", 11')\n",
    "keithley.write(\"COUN 1\")\n",
    "\n",
    "if direction == 'F' or direction == 'B':\n",
    "    # Start the Forward scan\n",
    "    start_time = time.perf_counter()\n",
    "    for i, voltage in enumerate(source_voltage):\n",
    "        clear_output(wait=True)\n",
    "        # Set the voltage source\n",
    "        keithley.write(f'TRACE:CLEAR \"CMEAS\"; :TRACE:CLEAR \"VMEAS\"; :SENSE:FUNCtion \"CURRent\"; :SOURCE:VOLTAGE:LEVEL {voltage}')\n",
    "        # Set the voltage source output on\n",
    "        output_start = time.perf_counter()\n",
    "        keithley.write('OUTPUT ON; :TRACE:TRIG \"CMEAS\"; :SENSE:FUNCtion \"VOLTage\"; :TRACE:TRIG \"VMEAS\"')\n",
    "        if t_ON > 0:\n",
    "            while (t_ON - time.perf_counter() + output_start) > 0:\n",
    "                pass    \n",
    "        # Set the voltage source output off\n",
    "        keithley.write('OUTPUT OFF')\n",
    "        output_end = time.perf_counter()\n",
    "\n",
    "        current = float(keithley.query('FETCH? \"CMEAS\"'))\n",
    "        voltage = float(keithley.query('FETCH? \"VMEAS\"'))\n",
    "        times.append((output_end - start_time))\n",
    "\n",
    "        t_ON_list.append(output_end - output_start)\n",
    "\n",
    "        currents.append(current)\n",
    "        voltages.append(voltage)\n",
    "        print(f'Estimated finish time is {str(finish.strftime(\"%Y/%m/%d, %H:%M:%S\"))}')\n",
    "        print(f'Step: {len(times)}/{num_steps} steps')\n",
    "        print(f't-ON: {t_ON_list[-1]:.4f} s')\n",
    "        print(f'Voltage: {voltage:.4g} V')\n",
    "        print(f'Current: {current:.4g} A')\n",
    "        plt.plot(voltages, currents, linestyle='-', marker='o', label='Current', color='blue')\n",
    "        plt.xlabel('Voltage (V)', fontsize=18)\n",
    "        plt.ylabel('Current (A)', fontsize=18)\n",
    "        plt.xticks(fontsize=16)\n",
    "        plt.yticks(fontsize=16)\n",
    "        plt.grid(True)\n",
    "        display(fig)\n",
    "        if (t_INT - (time.perf_counter() - output_end)) > 0:\n",
    "            while (t_INT - (time.perf_counter() - output_end))>0:\n",
    "                pass\n",
    "        else:\n",
    "            pass\n",
    "\n",
    "        t_OFF_list.append(time.perf_counter() - output_end)\n",
    "\n",
    "    # Create a CSV file for saving the data\n",
    "    with open(filename, 'w', newline='') as csvfile:\n",
    "        csvwriter = csv.writer(csvfile)\n",
    "        csvwriter.writerow(['Time (s)', 't-ON (s)', 't-OFF (s)', 'Current (A)', 'Voltage (V)'])\n",
    "        for i in range(len(times)):\n",
    "            csvwriter.writerow([times[i], t_ON_list[i], t_OFF_list[i], currents[i], voltages[i]])\n",
    "\n",
    "    # Check that the CSV file was created successfully\n",
    "    try:\n",
    "        with open(filename, 'r') as csvfile:\n",
    "            pass\n",
    "    except:\n",
    "        print(\"Error: Could not create CSV file\")\n",
    "\n",
    "if direction == 'R' or direction == 'B':\n",
    "    # Initialize the time and current arrays\n",
    "    times_R = []\n",
    "    t_ON_list_R = []\n",
    "    t_OFF_list_R = []\n",
    "    currents_R = []\n",
    "    voltages_R = []\n",
    "\n",
    "    # Set up the real-time plot\n",
    "    plt.ion()\n",
    "    fig = plt.figure(figsize=(12,8))\n",
    "    plt.rcParams[\"font.size\"] = 20\n",
    "    plt.xlabel('Voltage (V)')\n",
    "    plt.ylabel('Current (A)')\n",
    "\n",
    "    # Start the Reverse scan\n",
    "    start_time_R = time.perf_counter()\n",
    "    for i,voltage in enumerate(source_voltage_R):\n",
    "        clear_output(wait=True)\n",
    "        keithley.write(f'TRACE:CLEAR \"CMEAS\"; :TRACE:CLEAR \"VMEAS\"; :SENSE:FUNCtion \"CURRent\"; :SOURCE:VOLTAGE:LEVEL {voltage}')\n",
    "        # Set the voltage source output on\n",
    "        output_start = time.perf_counter()\n",
    "        keithley.write('OUTPUT ON; :TRACE:TRIG \"CMEAS\"; :SENSE:FUNCtion \"VOLTage\"; :TRACE:TRIG \"VMEAS\"')\n",
    "        if t_ON > 0:\n",
    "            while (t_ON - time.perf_counter() + output_start) > 0:\n",
    "                pass    \n",
    "        # Set the voltage source output off\n",
    "        keithley.write('OUTPUT OFF')\n",
    "        output_end = time.perf_counter()\n",
    "\n",
    "        current = float(keithley.query('FETCH? \"CMEAS\"'))\n",
    "        voltage = float(keithley.query('FETCH? \"VMEAS\"'))\n",
    "        t_ON_list_R.append(output_end - output_start)\n",
    "        times_R.append((output_end - start_time_R))\n",
    "\n",
    "        currents_R.append(float(current))\n",
    "        voltages_R.append(float(voltage))\n",
    "        print(f'Step: {len(times)+len(times_R)} /{num_steps} step')\n",
    "        print(f't-ON: {t_ON_list_R[-1]:.4f} s')\n",
    "        print(f'Voltage: {voltage:.4g} V')\n",
    "        print(f'Current: {current:.4g} A')\n",
    "        plt.plot(voltages, currents, linestyle='-', marker='o', label='FORWARD', color='blue')\n",
    "        plt.plot(voltages_R, currents_R, linestyle='-', marker='o', label='REVERSE', color='green')\n",
    "        plt.xlabel('Voltage (V)', fontsize=18)\n",
    "        plt.ylabel('Current (A)', fontsize=18)\n",
    "        plt.xticks(fontsize=16)\n",
    "        plt.yticks(fontsize=16)\n",
    "        plt.grid(True)\n",
    "        display(fig)\n",
    "\n",
    "        if (t_INT - (time.perf_counter() - output_end)) > 0:\n",
    "            while (t_INT - (time.perf_counter() - output_end)) > 0:\n",
    "                pass\n",
    "        else:\n",
    "            pass\n",
    "\n",
    "        t_OFF_list_R.append(time.perf_counter() - output_end)\n",
    "\n",
    "    # Create a CSV file for saving the data\n",
    "    with open(filename_R, 'w', newline='') as csvfile:\n",
    "        csvwriter = csv.writer(csvfile)\n",
    "        csvwriter.writerow(['Time (s)', 't-ON (s)', 't-OFF (s)', 'Current (A)', 'Voltage (V)'])\n",
    "        for i in range(len(times_R)):\n",
    "            csvwriter.writerow([times_R[i], t_ON_list_R[i], t_OFF_list_R[i], currents_R[i], voltages_R[i]])\n",
    "\n",
    "    # Check that the CSV file was created successfully\n",
    "    try:\n",
    "        with open(filename_R, 'r') as csvfile:\n",
    "            pass\n",
    "    except:\n",
    "        print(\"Error: Could not create CSV file\")\n",
    "    \n",
    "\n",
    "# Close the connection to the Keithley 2450\n",
    "keithley.write('TRACE:DEL \"VMEAS\"')\n",
    "keithley.write('TRACE:DEL \"CMEAS\"')\n",
    "keithley.close()\n",
    "\n",
    "print(f'Program completed at {str(datetime.datetime.now().strftime(\"%Y/%m/%d, %H:%M:%S\"))}')"
   ]
  },
  {
   "cell_type": "code",
   "execution_count": null,
   "id": "8d7a15fc-9e43-4ab0-b111-c1d9c07d475b",
   "metadata": {},
   "outputs": [],
   "source": [
    "voltages"
   ]
  },
  {
   "cell_type": "code",
   "execution_count": 14,
   "id": "2c82aa87-26d1-42b7-9edc-b11ca77df88e",
   "metadata": {},
   "outputs": [
    {
     "data": {
      "text/plain": [
       "<matplotlib.legend.Legend at 0x2614ed5d490>"
      ]
     },
     "execution_count": 14,
     "metadata": {},
     "output_type": "execute_result"
    },
    {
     "data": {
      "image/png": "[encoded data removed]",
      "text/plain": [
       "<Figure size 864x576 with 1 Axes>"
      ]
     },
     "metadata": {
      "needs_background": "light"
     },
     "output_type": "display_data"
    }
   ],
   "source": [
    "fig = plt.figure(figsize=(12,8))\n",
    "plt.rcParams[\"font.size\"] = 20\n",
    "plt.xlabel('Voltage (V)')\n",
    "plt.ylabel('Current (A)')\n",
    "plt.plot(voltages, currents, linestyle='-', marker='o', label='FORWARD', color='blue')\n",
    "# plt.plot(voltages_R, currents_R, linestyle='-', marker='o', label='REVERSE', color='green')\n",
    "plt.xscale('log')\n",
    "plt.yscale('log')\n",
    "plt.legend()"
   ]
  },
  {
   "cell_type": "code",
   "execution_count": null,
   "id": "e1d93d6e-8525-4f09-9c81-22d9b51c674c",
   "metadata": {},
   "outputs": [],
   "source": [
    "    # Set the voltage source\n",
    "    keithley.write('TRACE:CLEAR \"VMEAS\"')\n"
   ]
  },
  {
   "cell_type": "code",
   "execution_count": null,
   "id": "63003f8f-578a-432d-9570-3be522bb5571",
   "metadata": {},
   "outputs": [],
   "source": [
    "keithley.write(\"COUN 1\")"
   ]
  },
  {
   "cell_type": "code",
   "execution_count": null,
   "id": "292ca9f5-a265-463c-bff1-452cef013f78",
   "metadata": {},
   "outputs": [],
   "source": [
    "    keithley.write('TRACE:MAKE \"VMEAS\", 11; :TRACE:MAKE \"CMEAS\", 11')"
   ]
  },
  {
   "cell_type": "code",
   "execution_count": null,
   "id": "55e5a545-1524-4d90-a5cd-aed5af98806a",
   "metadata": {},
   "outputs": [],
   "source": [
    "    keithley.write('OUTPUT ON')\n",
    "    #time.sleep(1)\n",
    "    keithley.write('MEASURE:VOLT? \"VMEAS\"')\n",
    "    "
   ]
  },
  {
   "cell_type": "code",
   "execution_count": null,
   "id": "2bd3e086-658f-4cb6-a3b2-2d57b15c9df5",
   "metadata": {},
   "outputs": [],
   "source": [
    "    # Set the voltage source output off\n",
    "    #keithley.write('OUTPUT OFF')\n",
    "    #time.sleep(1)\n",
    "    voltageread = float(keithley.query('FETCh? \"VMEAS\",TIME'))\n",
    "    #time.sleep(1)\n",
    "    #currentread = float(keithley.query('FETCH? \"CMEAS\"'))\n",
    "    \n",
    "    print(voltageread)"
   ]
  },
  {
   "cell_type": "code",
   "execution_count": null,
   "id": "0008d186-f235-4423-9362-3b1b00e762a8",
   "metadata": {},
   "outputs": [],
   "source": []
  }
 ],
 "metadata": {
  "kernelspec": {
   "display_name": "Python 3 (ipykernel)",
   "language": "python",
   "name": "python3"
  },
  "language_info": {
   "codemirror_mode": {
    "name": "ipython",
    "version": 3
   },
   "file_extension": ".py",
   "mimetype": "text/x-python",
   "name": "python",
   "nbconvert_exporter": "python",
   "pygments_lexer": "ipython3",
   "version": "3.9.12"
  }
 },
 "nbformat": 4,
 "nbformat_minor": 5
}
