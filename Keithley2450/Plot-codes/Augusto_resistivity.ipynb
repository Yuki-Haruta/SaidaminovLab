{
 "cells": [
  {
   "cell_type": "code",
   "execution_count": null,
   "id": "a37a2095-eab6-4f78-8007-6b38749e1a4f",
   "metadata": {},
   "outputs": [],
   "source": [
    "import matplotlib.pyplot as plt\n",
    "import pandas as pd\n",
    "import numpy as np\n",
    "import os\n",
    "import glob\n",
    "\n",
    "data_dir = \"/Users/yukiharuta/Desktop/Temp-Data/Doping-for-pn/Keithley/240214_Bi-doped_MAPbBr3_IV\"\n",
    "\n",
    "csv_list = glob.glob(f'{data_dir}/*.csv')\n",
    "csv_list.sort()\n",
    "csv_list"
   ]
  }
 ],
 "metadata": {
  "kernelspec": {
   "display_name": "Python 3 (ipykernel)",
   "language": "python",
   "name": "python3"
  },
  "language_info": {
   "codemirror_mode": {
    "name": "ipython",
    "version": 3
   },
   "file_extension": ".py",
   "mimetype": "text/x-python",
   "name": "python",
   "nbconvert_exporter": "python",
   "pygments_lexer": "ipython3",
   "version": "3.9.12"
  }
 },
 "nbformat": 4,
 "nbformat_minor": 5
}
