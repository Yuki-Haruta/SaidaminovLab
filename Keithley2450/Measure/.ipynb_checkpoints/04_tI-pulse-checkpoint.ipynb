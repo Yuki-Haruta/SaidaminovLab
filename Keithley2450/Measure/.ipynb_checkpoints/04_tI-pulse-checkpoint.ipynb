{
 "cells": [
  {
   "cell_type": "code",
   "execution_count": null,
   "id": "92be531a-b881-4258-9cec-f0e073c47c6c",
   "metadata": {},
   "outputs": [],
   "source": [
    "import pySMUuvic as psu\n",
    "\n",
    "# # To check Keithley Address\n",
    "# psu.get_Keithley_address()\n",
    "\n",
    "save_dir = '/Users/lznus/Desktop/Data-Keithley/'\n",
    "address = 'USB0::0x05E6::0x2450::04491080::INSTR'\n",
    "operation_mode = 'tI-pulse'\n",
    "\n",
    "project_dir = psu.project_start(save_dir, operation_mode)"
   ]
  },
  {
   "cell_type": "code",
   "execution_count": null,
   "id": "ee3f5bae-50b0-4cd3-8847-cd8f06755b18",
   "metadata": {},
   "outputs": [],
   "source": [
    "# Decide running parameters and then run it\n",
    "psu.run_tI_pulse(\n",
    "    project_dir = project_dir\n",
    "    source_voltage = 100, # V\n",
    "    delay_time = 0.5, # sec, minimum is 0.5\n",
    "    duration = 370, # sec, total time\n",
    "    ILIMIT = 0.01, # A\n",
    "    terminals = 'REAR', # 'FRONT' or 'REAR' panel\n",
    "    address\n",
    ")"
   ]
  }
 ],
 "metadata": {
  "kernelspec": {
   "display_name": "Python 3 (ipykernel)",
   "language": "python",
   "name": "python3"
  },
  "language_info": {
   "codemirror_mode": {
    "name": "ipython",
    "version": 3
   },
   "file_extension": ".py",
   "mimetype": "text/x-python",
   "name": "python",
   "nbconvert_exporter": "python",
   "pygments_lexer": "ipython3",
   "version": "3.9.12"
  }
 },
 "nbformat": 4,
 "nbformat_minor": 5
}
