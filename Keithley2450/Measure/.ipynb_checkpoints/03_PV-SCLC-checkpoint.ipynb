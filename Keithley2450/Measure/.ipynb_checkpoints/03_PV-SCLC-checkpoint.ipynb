{
 "cells": [
  {
   "cell_type": "code",
   "execution_count": null,
   "id": "127ee6aa-2549-4e01-8be0-75414bd7e36c",
   "metadata": {},
   "outputs": [],
   "source": [
    "import pySMUuvic as psu\n",
    "\n",
    "# # To check Keithley Address\n",
    "# psu.get_Keithley_address()\n",
    "\n",
    "save_dir = '/Users/lznus/Desktop/Data-Keithley/'\n",
    "address = 'USB0::0x05E6::0x2450::04491080::INSTR'\n",
    "operation_mode = 'PV-SCLC'\n",
    "\n",
    "project_dir = psu.project_start(save_dir, operation_mode)"
   ]
  },
  {
   "cell_type": "code",
   "execution_count": null,
   "id": "e4dc991f-427c-491d-a0eb-eb1815b436fa",
   "metadata": {},
   "outputs": [],
   "source": [
    "# Run the measurement\n",
    "psu.run_pv_sclc(\n",
    "    project_dir,\n",
    "    start_log = -1.3, # 10**{start_log} V, 10**(-1.3)= 0.05 mV                \n",
    "    end_log = 2.3, # 10**{end_log} V, 10**(2.3) = 199.5 V\n",
    "    log_step = 0.1, # V = 10**({start_log}+{step}i)\n",
    "    t_ON = 0.020, #s SET TO 0 FOR MAXIMUM SPEED (SMALLEST ON TIME)\n",
    "    t_INT = 0.1, #s\n",
    "    direction = 'F', #F for forward, R for reverse, B for both (F, then R))\n",
    "    terminals = 'REAR', # panel to use\n",
    "    address # Keithley Address\n",
    ")"
   ]
  },
  {
   "cell_type": "code",
   "execution_count": null,
   "id": "38ab0b00-9fb4-4582-9714-0f26a8226a56",
   "metadata": {},
   "outputs": [],
   "source": [
    "# Grab and show the data list\n",
    "data_list = psu.data_list()"
   ]
  },
  {
   "cell_type": "code",
   "execution_count": null,
   "id": "c3271cd7-9b84-4831-a5ce-4bfdeda8a40f",
   "metadata": {},
   "outputs": [],
   "source": [
    "plot_index = [0,1] # Chose the numbers\n",
    "\n",
    "psu.IV_plot(data_list, plot_index, xlog = True, ylog = True, save = False)"
   ]
  }
 ],
 "metadata": {
  "kernelspec": {
   "display_name": "Python 3 (ipykernel)",
   "language": "python",
   "name": "python3"
  },
  "language_info": {
   "codemirror_mode": {
    "name": "ipython",
    "version": 3
   },
   "file_extension": ".py",
   "mimetype": "text/x-python",
   "name": "python",
   "nbconvert_exporter": "python",
   "pygments_lexer": "ipython3",
   "version": "3.9.12"
  }
 },
 "nbformat": 4,
 "nbformat_minor": 5
}
