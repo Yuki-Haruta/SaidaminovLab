{
 "cells": [
  {
   "cell_type": "markdown",
   "id": "1cbbaed2-6a03-4e6f-9066-efd5a1500622",
   "metadata": {
    "tags": []
   },
   "source": [
    "## 1st: create a folder"
   ]
  },
  {
   "cell_type": "code",
   "execution_count": null,
   "id": "0b83326f-3f9e-4a4f-aaaa-497d11b25dd1",
   "metadata": {},
   "outputs": [],
   "source": [
    "import pySMUuvic as psu\n",
    "\n",
    "# # To check Keithley Address\n",
    "# psu.get_Keithley_address()\n",
    "\n",
    "save_dir = '/Users/lznus/Desktop/Data-Keithley'\n",
    "address = 'USB0::0x05E6::0x2450::04491080::INSTR'\n",
    "operation_mode = '01_tI'\n",
    "\n",
    "project_dir = psu.project_start(save_dir, operation_mode)"
   ]
  },
  {
   "cell_type": "markdown",
   "id": "45403a6b-ca2f-4a64-bd36-48d55c3263d2",
   "metadata": {
    "tags": []
   },
   "source": [
    "## 2nd: set parameters and run"
   ]
  },
  {
   "cell_type": "code",
   "execution_count": null,
   "id": "0db61252-0f2a-4c1b-a275-7dd8585987cb",
   "metadata": {},
   "outputs": [],
   "source": [
    "# Decide running parameters and then run it\n",
    "source_voltage = 5 # V\n",
    "interval_time = 1 # sec, minimum 0.5 sec\n",
    "total_time = 60 # sec\n",
    "ILIMIT = 0.01 # A, Current limit for safety\n",
    "terminals = 'REAR' # 'FRONT' or 'REAR'\n",
    "\n",
    "# Gather the parameters and run the Keithley 2450\n",
    "parameters = [project_dir,source_voltage,interval_time,total_time,ILIMIT,terminals,address]\n",
    "time_list, current_list = psu.run_tI(*parameters)\n",
    "\n",
    "'''\n",
    "X-ray turn on time\n",
    "sec - mA\n",
    "\n",
    "85 - 35\n",
    "147 - 28\n",
    "207 - 21\n",
    "267 - 14\n",
    "327 - 7\n",
    "'''"
   ]
  },
  {
   "cell_type": "markdown",
   "id": "4c0b23e8-2360-4639-96e3-55884bf336b3",
   "metadata": {},
   "source": [
    "## Make a combined figure"
   ]
  },
  {
   "cell_type": "code",
   "execution_count": null,
   "id": "a0d150f7-08cb-4b60-8b59-cbb8e57af563",
   "metadata": {},
   "outputs": [],
   "source": [
    "# Grab and show the data list\n",
    "data_list = psu.data_list(project_dir)"
   ]
  },
  {
   "cell_type": "code",
   "execution_count": null,
   "id": "ba04ea3c-d38d-4191-89c8-b5b570ae1a29",
   "metadata": {},
   "outputs": [],
   "source": [
    "plot_index = [0,1] # Chose the numbers\n",
    "\n",
    "psu.tI_plot(data_list, plot_index, project_dir)"
   ]
  }
 ],
 "metadata": {
  "kernelspec": {
   "display_name": "Python 3 (ipykernel)",
   "language": "python",
   "name": "python3"
  },
  "language_info": {
   "codemirror_mode": {
    "name": "ipython",
    "version": 3
   },
   "file_extension": ".py",
   "mimetype": "text/x-python",
   "name": "python",
   "nbconvert_exporter": "python",
   "pygments_lexer": "ipython3",
   "version": "3.12.2"
  }
 },
 "nbformat": 4,
 "nbformat_minor": 5
}
