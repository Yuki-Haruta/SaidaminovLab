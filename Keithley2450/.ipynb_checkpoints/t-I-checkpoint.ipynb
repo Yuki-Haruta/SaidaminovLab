{
 "cells": [
  {
   "cell_type": "markdown",
   "id": "2130750d-470b-4ae3-b27a-204c73ac75cf",
   "metadata": {
    "tags": []
   },
   "source": [
    "## To check the Keithley address, use this code"
   ]
  },
  {
   "cell_type": "code",
   "execution_count": null,
   "id": "1279ba0b-e8ce-45bf-a6d9-6436fcd523ac",
   "metadata": {},
   "outputs": [],
   "source": [
    "from pymeasure.instruments import list_resources\n",
    "list_resources()"
   ]
  },
  {
   "cell_type": "markdown",
   "id": "1cbbaed2-6a03-4e6f-9066-efd5a1500622",
   "metadata": {
    "tags": []
   },
   "source": [
    "## 1st: create a folder"
   ]
  },
  {
   "cell_type": "code",
   "execution_count": null,
   "id": "0b83326f-3f9e-4a4f-aaaa-497d11b25dd1",
   "metadata": {},
   "outputs": [],
   "source": [
    "import datetime\n",
    "import os\n",
    "import sys\n",
    "from utilities import make_folder, int_ask\n",
    "\n",
    "# Set the project name\n",
    "project_name = input('Enter project name: ')\n",
    "while project_name == '':\n",
    "    print('Error: Project name cannot be empty')\n",
    "    project_name = input('Enter project name: ')\n",
    "\n",
    "# Get the date\n",
    "today = datetime.datetime.today().strftime('%y%m%d')\n",
    "project_dir = f\"/Users/lznus/Desktop/Data-Keithley/{today}_{project_name}\"\n",
    "\n",
    "# Create the project directory if it does not exist\n",
    "make_folder(project_dir)\n",
    "# Create the project directory if it does not exist\n",
    "fig_dir = f\"/Users/lznus/Desktop/Data-Keithley/{today}_{project_name}/figures\"\n",
    "make_folder(fig_dir)"
   ]
  },
  {
   "cell_type": "markdown",
   "id": "45403a6b-ca2f-4a64-bd36-48d55c3263d2",
   "metadata": {
    "tags": []
   },
   "source": [
    "## 2nd: set parameters and make a file"
   ]
  },
  {
   "cell_type": "code",
   "execution_count": null,
   "id": "0db61252-0f2a-4c1b-a275-7dd8585987cb",
   "metadata": {},
   "outputs": [],
   "source": [
    "# Define parameters\n",
    "KEITHLEY_ADDRESS = 'USB0::0x05E6::0x2450::04491080::INSTR'\n",
    "source_voltage = 10 # V\n",
    "delay_time = 0.5 # sec, minimum is 0.5\n",
    "duration = 60 # sec\n",
    "file_name = input(f'Enter the file name [XXX], it will be \"{project_dir}/XXX.csv\"\\n  [XXX] = ')\n",
    "filename = os.path.join(project_dir, file_name + '.csv')\n",
    "\n",
    "# Check if the project directory exists\n",
    "overwrite = '' #initialize\n",
    "if os.path.exists(filename):\n",
    "    print(f'\\033[33m\\nThe file \"{file_name}.csv\" already exists.')\n",
    "    overwrite = int_ask('Do you want to overwrite it? Yes(0) or No(1)\\n')\n",
    "    if overwrite == 0:\n",
    "        print('\\033[33mOkay, the program will overwrite the file.\\n\\033[33m')\n",
    "    elif overwrite == 1:\n",
    "        file_name2 = file_name\n",
    "        while file_name2 == file_name:\n",
    "            file_name2 = input(f'Enter the file name except for \"{file_name}\":\\n')\n",
    "        filename = os.path.join(project_dir, file_name2 + '.csv')\n",
    "\n",
    "# Confirmation\n",
    "if overwrite == 1:\n",
    "    print(f'\\033[33mThe file \"{file_name2}.csv\" will be saved after the following program\\033[33m')\n",
    "elif overwrite == 0:\n",
    "    pass\n",
    "else:\n",
    "    print(f'\\033[33mThe file \"{file_name}.csv\" will be saved after the following program\\033[33m')"
   ]
  },
  {
   "cell_type": "markdown",
   "id": "6249e4e8-40e5-472d-baeb-d2510a62f567",
   "metadata": {
    "tags": []
   },
   "source": [
    "## 3rd: Run the Ketithley"
   ]
  },
  {
   "cell_type": "code",
   "execution_count": null,
   "id": "c6ff1301-6692-4f0d-a81e-5d93fe5cd37d",
   "metadata": {},
   "outputs": [],
   "source": [
    "import pyvisa as visa\n",
    "import time\n",
    "import csv\n",
    "import datetime\n",
    "import sys\n",
    "import matplotlib.pyplot as plt\n",
    "from IPython.display import display, clear_output\n",
    "\n",
    "# Check Parameters\n",
    "print('***************   Check these parameters   *************** ')\n",
    "print(f'File name: {file_name}.csv')\n",
    "print(f'Voltage: {source_voltage} V')\n",
    "print(f'Delay time: {delay_time} s')\n",
    "print(f'Duration: {duration} s')\n",
    "\n",
    "# Make sure if you start or not\n",
    "START = input('\\nPress Enter to Start')\n",
    "if START == '':\n",
    "    print(\"\\n Let's get started :)\")\n",
    "    pass\n",
    "else:\n",
    "    sys.exit(0)\n",
    "\n",
    "# Open a connection to the Keithley 2450\n",
    "try:\n",
    "    rm = visa.ResourceManager()\n",
    "    keithley = rm.open_resource(KEITHLEY_ADDRESS)\n",
    "except:\n",
    "    print(\"Error: Could not connect to instrument\")\n",
    "    sys.exit(0)\n",
    "\n",
    "# Set the voltage source\n",
    "keithley.write(f'SOURCE:VOLTAGE:LEVEL {source_voltage}')\n",
    "\n",
    "# Set the voltage source output on\n",
    "keithley.write('OUTPUT ON')\n",
    "\n",
    "# Initialize the time and current arrays\n",
    "times = []\n",
    "currents = []\n",
    "voltages = []\n",
    "\n",
    "# Set up the real-time plot\n",
    "plt.ion()\n",
    "fig = plt.figure(figsize=(12,8))\n",
    "plt.rcParams[\"font.size\"] = 20\n",
    "plt.xlabel('Time (s)')\n",
    "plt.ylabel('Current (A)')\n",
    "\n",
    "# Start the measurement and real-time plot\n",
    "start_time = time.perf_counter()\n",
    "while (time.perf_counter() - start_time) < duration:\n",
    "    round_start = time.perf_counter()\n",
    "    voltage = float(keithley.query('MEASURE:VOLTAGE?'))\n",
    "    current = float(keithley.query('MEASURE:CURRENT?'))\n",
    "    times.append((time.perf_counter() - start_time))\n",
    "    currents.append(current)\n",
    "    voltages.append(voltage)\n",
    "    clear_output(wait=True)\n",
    "    print(f'Time: {times[-1]:.2f} s / {duration} s')\n",
    "    print(f'Voltage: {voltage:.4g} V')\n",
    "    print(f'Current: {current:.4g} A')\n",
    "    plt.plot(times[-100:], currents[-100:], linestyle='-', marker='o', color='blue')\n",
    "    plt.xlabel('Time (s)', fontsize=18, color='white')\n",
    "    plt.ylabel('Current (A)', fontsize=18, color='white')\n",
    "    plt.xticks(fontsize=16, color='white')\n",
    "    plt.yticks(fontsize=16, color='white')\n",
    "    plt.grid(True)\n",
    "    display(fig)\n",
    "    if (delay_time - (time.perf_counter() - round_start)) > 0:\n",
    "        time.sleep(delay_time - (time.perf_counter() - round_start))\n",
    "    else:\n",
    "        pass\n",
    "    \n",
    "# Set the voltage source output off\n",
    "keithley.write('OUTPUT OFF')\n",
    "\n",
    "# Create a CSV file for saving the data\n",
    "with open(filename, 'w', newline='') as csvfile:\n",
    "    csvwriter = csv.writer(csvfile)\n",
    "    csvwriter.writerow(['Time (s)', 'Current (A)', 'Voltage (V)'])\n",
    "    for i in range(len(times)):\n",
    "        csvwriter.writerow([times[i], currents[i], voltages[i]])\n",
    "\n",
    "# Check that the CSV file was created successfully\n",
    "try:\n",
    "    with open(filename, 'r') as csvfile:\n",
    "        pass\n",
    "except:\n",
    "    print(\"Error: Could not create CSV file\")\n",
    "\n",
    "# Close the connection to the Keithley 2450\n",
    "keithley.close()\n",
    "\n",
    "clear_output(wait=True)\n",
    "# Save the figure\n",
    "if overwrite == 1:\n",
    "    fig_path = os.path.join(fig_dir, file_name2 + '.png')\n",
    "else:\n",
    "    fig_path = os.path.join(fig_dir, file_name + '.png')\n",
    "    \n",
    "fig2 = plt.figure(figsize=(12,8))\n",
    "plt.rcParams[\"font.size\"] = 20\n",
    "plt.plot(times, currents, linestyle='-', marker='o', color='blue')\n",
    "plt.xlabel('Time (s)')\n",
    "plt.ylabel('Current (A)')\n",
    "plt.show()\n",
    "fig2.savefig(fig_path, transparent = True)\n",
    "\n",
    "print(\"Program completed\")"
   ]
  },
  {
   "cell_type": "markdown",
   "id": "4c0b23e8-2360-4639-96e3-55884bf336b3",
   "metadata": {
    "tags": []
   },
   "source": [
    "## Make a combined figure"
   ]
  },
  {
   "cell_type": "code",
   "execution_count": null,
   "id": "a0d150f7-08cb-4b60-8b59-cbb8e57af563",
   "metadata": {},
   "outputs": [],
   "source": [
    "import glob\n",
    "import os\n",
    "data_list = glob.glob(f'{project_dir}/*.csv')\n",
    "csv_list = []\n",
    "\n",
    "for i, file in enumerate(data_list):\n",
    "    csv_list.append(os.path.splitext(os.path.basename(file))[0])\n",
    "    print(f'{i}: {os.path.splitext(os.path.basename(file))[0]}')"
   ]
  },
  {
   "cell_type": "code",
   "execution_count": null,
   "id": "ba04ea3c-d38d-4191-89c8-b5b570ae1a29",
   "metadata": {},
   "outputs": [],
   "source": [
    "plot_index = [5,7,18] # Chose the numbers\n",
    "plot_list = []\n",
    "for i in range(len(plot_index)):\n",
    "    plot_list.append(csv_list[plot_index[i]])\n",
    "\n",
    "for i, file in enumerate(plot_list):\n",
    "    print(f'{i}: {file}')\n",
    "    \n",
    "import pandas as pd\n",
    "\n",
    "fig_name = 'keithley-next-room'\n",
    "\n",
    "figure = plt.figure(figsize=(12,8))\n",
    "plt.rcParams[\"font.size\"] = 20\n",
    "plt.xlabel('Time (s)')\n",
    "plt.ylabel('Current (A)')\n",
    "\n",
    "for file in plot_list:\n",
    "    df = pd.read_csv(f'{project_dir}/{file}.csv')\n",
    "    plt.plot(df['Time (s)'], df['Current (A)'], linestyle='-', marker='o', label = file)\n",
    "\n",
    "plt.legend()\n",
    "plt.show()\n",
    "\n",
    "# Create the project directory if it does not exist\n",
    "fig_com_dir = f\"/Users/lznus/Desktop/Data-Keithley/{today}_{project_name}/figures/combined\"\n",
    "make_folder(fig_com_dir)\n",
    "fig_com_path = os.path.join(fig_com_dir, fig_name + '.png')\n",
    "figure.savefig(fig_com_path, transparent = True)"
   ]
  }
 ],
 "metadata": {
  "kernelspec": {
   "display_name": "Python 3 (ipykernel)",
   "language": "python",
   "name": "python3"
  },
  "language_info": {
   "codemirror_mode": {
    "name": "ipython",
    "version": 3
   },
   "file_extension": ".py",
   "mimetype": "text/x-python",
   "name": "python",
   "nbconvert_exporter": "python",
   "pygments_lexer": "ipython3",
   "version": "3.9.12"
  }
 },
 "nbformat": 4,
 "nbformat_minor": 5
}
