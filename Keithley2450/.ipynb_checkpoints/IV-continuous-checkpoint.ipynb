{
 "cells": [
  {
   "cell_type": "code",
   "execution_count": null,
   "id": "1279ba0b-e8ce-45bf-a6d9-6436fcd523ac",
   "metadata": {},
   "outputs": [],
   "source": [
    "from pymeasure.instruments import list_resources\n",
    "list_resources()"
   ]
  },
  {
   "cell_type": "code",
   "execution_count": 20,
   "id": "0b83326f-3f9e-4a4f-aaaa-497d11b25dd1",
   "metadata": {},
   "outputs": [
    {
     "name": "stdin",
     "output_type": "stream",
     "text": [
      "Enter project name:  test\n"
     ]
    },
    {
     "name": "stdout",
     "output_type": "stream",
     "text": [
      "\u001b[33mFolder named \"2023-04-25_test\" has been prepared.\n"
     ]
    }
   ],
   "source": [
    "import datetime\n",
    "import os\n",
    "\n",
    "# Set the project name\n",
    "project_name = input('Enter project name: ')\n",
    "while project_name == '':\n",
    "    print('Error: Project name cannot be empty')\n",
    "    project_name = input('Enter project name: ')\n",
    "    \n",
    "today = datetime.datetime.today().strftime('%y%m%d')\n",
    "project_dir = f\"{today}_{project_name}\"\n",
    "\n",
    "# Check if the project directory exists\n",
    "if os.path.exists(project_dir):\n",
    "    print(f'\\033[33mFolder \"{project_dir}\" already exists.')\n",
    "\n",
    "# Create the project directory if it does not exist\n",
    "if not os.path.exists(project_dir):\n",
    "    try:\n",
    "        os.mkdir(project_dir)\n",
    "        print(f'\\033[33mFolder named \"{project_dir}\" has been prepared.')\n",
    "    except OSError:\n",
    "        print(f\"Error: Could not create directory {project_dir}\")\n",
    "        sys.exit(0)"
   ]
  },
  {
   "cell_type": "code",
   "execution_count": 53,
   "id": "c6ff1301-6692-4f0d-a81e-5d93fe5cd37d",
   "metadata": {},
   "outputs": [
    {
     "name": "stdin",
     "output_type": "stream",
     "text": [
      "Enter file name:  p\n"
     ]
    },
    {
     "name": "stdout",
     "output_type": "stream",
     "text": [
      "Estimated total time is 5 sec\n"
     ]
    }
   ],
   "source": [
    "import numpy as np\n",
    "# Set the voltage source (V)\n",
    "start_voltage = 0 #V\n",
    "end_voltage = 5 # V\n",
    "step_size = 0.1 #V/step\n",
    "scan_rate = 1 #V/s\n",
    "source_voltage = np.arange(start_voltage, end_voltage+step_size, step_size) # prepare voltage sources\n",
    "# Set the delay time (second)\n",
    "# delay_time = 10\n",
    "total_time = abs(end_voltage - start_voltage) / scan_rate\n",
    "delay_time =  total_time / len(source_voltage)\n",
    "# Set the filename\n",
    "file_name = input('Enter file name: ')\n",
    "filename = os.path.join(project_dir, file_name + '.csv')\n",
    "if total_time < 60:\n",
    "    print(f'Estimated total time is {int(total_time)} sec')\n",
    "elif total_time >= 60 and total_time <= 3600:\n",
    "    print(f'Estimated total time is {int(total_time)/60} min')\n",
    "elif total_time > 3600:\n",
    "    print(f'Estimated total time is {int(total_time)/3600} hrs')"
   ]
  },
  {
   "cell_type": "code",
   "execution_count": 56,
   "id": "0ef0c070-0da3-47de-bb92-65c9327ef1f0",
   "metadata": {},
   "outputs": [
    {
     "name": "stdout",
     "output_type": "stream",
     "text": [
      "Program completed\n"
     ]
    },
    {
     "data": {
      "image/png": "[encoded data removed]",
      "text/plain": [
       "<Figure size 864x576 with 1 Axes>"
      ]
     },
     "metadata": {
      "needs_background": "dark"
     },
     "output_type": "display_data"
    }
   ],
   "source": [
    "import pyvisa as visa\n",
    "import time\n",
    "import csv\n",
    "import datetime\n",
    "import sys\n",
    "import matplotlib.pyplot as plt\n",
    "from IPython.display import display, clear_output\n",
    "\n",
    "# Check Parameters\n",
    "print(f'File name: {file_name}.csv')\n",
    "print(f'Delay time: {delay_time} s')\n",
    "\n",
    "# Make sure if you start or not\n",
    "START = input('Press Enter to Start')\n",
    "if START == '':\n",
    "    print(\"\\n Let's get started :)\")\n",
    "    pass\n",
    "else:\n",
    "    sys.exit(0)\n",
    "    \n",
    "# Open a connection to the Keithley 2450\n",
    "try:\n",
    "    rm = visa.ResourceManager()\n",
    "    keithley = rm.open_resource('USB0::0x05E6::0x2450::04491080::INSTR')\n",
    "except:\n",
    "    print(\"Error: Could not connect to instrument\")\n",
    "    sys.exit(0)\n",
    "\n",
    "# Initialize the time and current arrays\n",
    "times = []\n",
    "currents = []\n",
    "voltages = []\n",
    "\n",
    "# Set up the real-time plot\n",
    "plt.ion()\n",
    "fig = plt.figure(figsize=(12,8))\n",
    "plt.rcParams[\"font.size\"] = 20\n",
    "plt.xlabel('Voltage (V)')\n",
    "plt.ylabel('Current (A)')\n",
    "# Set the voltage source output on\n",
    "keithley.write(f'SOURCE:VOLTAGE:LEVEL 0') \n",
    "keithley.write('OUTPUT ON')\n",
    "\n",
    "# Start the measurement and real-time plot\n",
    "start_time = time.perf_counter()\n",
    "for i in range(len(source_voltage)):\n",
    "    round_start = time.perf_counter()\n",
    "    # Set the voltage source\n",
    "    keithley.write(f'SOURCE:VOLTAGE:LEVEL {source_voltage[i]}') \n",
    "    clear_output(wait=True)\n",
    "    voltage = float(keithley.query('MEASURE:VOLTAGE?'))\n",
    "    current = float(keithley.query('MEASURE:CURRENT?'))\n",
    "    times.append((time.perf_counter() - start_time))\n",
    "    currents.append(current)\n",
    "    voltages.append(voltage)\n",
    "    print(f'Time: {times[-1]:.2f} s / {duration} s')\n",
    "    print(f'Voltage: {voltage:.4g} V')\n",
    "    print(f'Current: {current:.4g} A')\n",
    "    plt.plot(voltages[-100:], currents[-100:], linestyle='-', marker='o', label='Current', color='blue')\n",
    "    plt.xlabel('Voltage (V)', fontsize=18, color='white')\n",
    "    plt.ylabel('Current (A)', fontsize=18, color='white')\n",
    "    plt.xticks(fontsize=16, color='white')\n",
    "    plt.yticks(fontsize=16, color='white')\n",
    "    plt.grid(True)\n",
    "    display(fig)\n",
    "    if (delay_time - (time.perf_counter() - round_start)) > 0:\n",
    "        time.sleep(delay_time - (time.perf_counter() - round_start))\n",
    "    else:\n",
    "        pass\n",
    "\n",
    "clear_output(wait=True)\n",
    "# Set the voltage source output off\n",
    "keithley.write('OUTPUT OFF')\n",
    "\n",
    "# Create a CSV file for saving the data\n",
    "with open(filename, 'w', newline='') as csvfile:\n",
    "    csvwriter = csv.writer(csvfile)\n",
    "    csvwriter.writerow(['Time (s)', 'Current (A)', 'Voltage (V)'])\n",
    "    for i in range(len(times)):\n",
    "        csvwriter.writerow([times[i], currents[i], voltages[i]])\n",
    "\n",
    "# Check that the CSV file was created successfully\n",
    "try:\n",
    "    with open(filename, 'r') as csvfile:\n",
    "        pass\n",
    "except:\n",
    "    \n",
    "    print(\"Error: Could not create CSV file\")\n",
    "\n",
    "# Close the connection to the Keithley 2450\n",
    "keithley.close()\n",
    "\n",
    "print(\"Program completed\")"
   ]
  }
 ],
 "metadata": {
  "kernelspec": {
   "display_name": "Python 3 (ipykernel)",
   "language": "python",
   "name": "python3"
  },
  "language_info": {
   "codemirror_mode": {
    "name": "ipython",
    "version": 3
   },
   "file_extension": ".py",
   "mimetype": "text/x-python",
   "name": "python",
   "nbconvert_exporter": "python",
   "pygments_lexer": "ipython3",
   "version": "3.9.12"
  }
 },
 "nbformat": 4,
 "nbformat_minor": 5
}
