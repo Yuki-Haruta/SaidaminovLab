{
 "cells": [
  {
   "cell_type": "code",
   "execution_count": null,
   "id": "1279ba0b-e8ce-45bf-a6d9-6436fcd523ac",
   "metadata": {},
   "outputs": [],
   "source": [
    "from pymeasure.instruments import list_resources\n",
    "list_resources()"
   ]
  },
  {
   "cell_type": "code",
   "execution_count": 2,
   "id": "0b83326f-3f9e-4a4f-aaaa-497d11b25dd1",
   "metadata": {},
   "outputs": [
    {
     "name": "stdin",
     "output_type": "stream",
     "text": [
      "Enter project name:  test\n"
     ]
    }
   ],
   "source": [
    "import datetime\n",
    "import os\n",
    "import sys\n",
    "# from utilities import make_folder\n",
    "\n",
    "# Set the project name\n",
    "project_name = input('Enter project name: ')\n",
    "while project_name == '':\n",
    "    print('Error: Project name cannot be empty')\n",
    "    project_name = input('Enter project name: ')\n",
    "\n",
    "# Get the date\n",
    "today = datetime.datetime.today().strftime('%y%m%d')\n",
    "project_dir = f\"{today}_{project_name}\"\n",
    "\n",
    "# Create the project directory if it does not exist\n",
    "# make_folder(project_dir)"
   ]
  },
  {
   "cell_type": "code",
   "execution_count": 5,
   "id": "0db61252-0f2a-4c1b-a275-7dd8585987cb",
   "metadata": {},
   "outputs": [
    {
     "name": "stdin",
     "output_type": "stream",
     "text": [
      "Enter file name [XXX], it will be \"230425_test/XXX.csv\"\n",
      "  [XXX] =  a\n"
     ]
    }
   ],
   "source": [
    "# Define parameters\n",
    "KEITHLEY_ADDRESS = 'USB0::0x05E6::0x2450::04491080::INSTR'\n",
    "source_voltage = 2 # V\n",
    "delay_time = 1 # sec, minimum is 0.5\n",
    "duration = 120 # sec\n",
    "file_name = input(f'Enter file name [XXX], it will be \"{project_dir}/XXX.csv\"\\n  [XXX] = ')\n",
    "filename = os.path.join(project_dir, file_name + '.csv')"
   ]
  },
  {
   "cell_type": "code",
   "execution_count": null,
   "id": "c6ff1301-6692-4f0d-a81e-5d93fe5cd37d",
   "metadata": {},
   "outputs": [
    {
     "data": {
      "image/png": "[encoded data removed]",
      "text/plain": [
       "<Figure size 864x576 with 1 Axes>"
      ]
     },
     "metadata": {},
     "output_type": "display_data"
    },
    {
     "name": "stdout",
     "output_type": "stream",
     "text": [
      "Time: 95.04 s / 120 s\n",
      "Voltage: 1.996 V\n",
      "Current: 1.195e-07 A\n"
     ]
    }
   ],
   "source": [
    "import pyvisa as visa\n",
    "import time\n",
    "import csv\n",
    "import datetime\n",
    "import sys\n",
    "import matplotlib.pyplot as plt\n",
    "from IPython.display import display, clear_output\n",
    "\n",
    "# Check Parameters\n",
    "print('***************   Check these parameters   *************** ')\n",
    "print(f'File name: {file_name}.csv')\n",
    "print(f'Voltage: {source_voltage} V')\n",
    "print(f'Delay time: {delay_time} s')\n",
    "print(f'Duration: {duration} s')\n",
    "\n",
    "# Make sure if you start or not\n",
    "START = input('\\nPress Enter to Start')\n",
    "if START == '':\n",
    "    print(\"\\n Let's get started :)\")\n",
    "    pass\n",
    "else:\n",
    "    sys.exit(0)\n",
    "\n",
    "# Open a connection to the Keithley 2450\n",
    "try:\n",
    "    rm = visa.ResourceManager()\n",
    "    keithley = rm.open_resource(KEITHLEY_ADDRESS)\n",
    "except:\n",
    "    print(\"Error: Could not connect to instrument\")\n",
    "    sys.exit(0)\n",
    "\n",
    "# Set the voltage source\n",
    "keithley.write(f'SOURCE:VOLTAGE:LEVEL {source_voltage}')\n",
    "\n",
    "# Set the voltage source output on\n",
    "keithley.write('OUTPUT ON')\n",
    "\n",
    "# Initialize the time and current arrays\n",
    "times = []\n",
    "currents = []\n",
    "voltages = []\n",
    "\n",
    "# Set up the real-time plot\n",
    "plt.ion()\n",
    "fig = plt.figure(figsize=(12,8))\n",
    "plt.rcParams[\"font.size\"] = 20\n",
    "plt.xlabel('Time (s)')\n",
    "plt.ylabel('Current (A)')\n",
    "\n",
    "# Start the measurement and real-time plot\n",
    "start_time = time.perf_counter()\n",
    "while (time.perf_counter() - start_time) < duration:\n",
    "    round_start = time.perf_counter()\n",
    "    clear_output(wait=True)\n",
    "    voltage = float(keithley.query('MEASURE:VOLTAGE?'))\n",
    "    current = float(keithley.query('MEASURE:CURRENT?'))\n",
    "    times.append((time.perf_counter() - start_time))\n",
    "    currents.append(current)\n",
    "    voltages.append(voltage)\n",
    "    plt.plot(times[-100:], currents[-100:], linestyle='-', marker='o', label='Current', color='blue')\n",
    "    plt.xlabel('Time (s)', fontsize=18, color='white')\n",
    "    plt.ylabel('Current (A)', fontsize=18, color='white')\n",
    "    plt.xticks(fontsize=16, color='white')\n",
    "    plt.yticks(fontsize=16, color='white')\n",
    "    plt.grid(True)\n",
    "    display(fig)\n",
    "    print(f'Time: {times[-1]:.2f} s / {duration} s')\n",
    "    print(f'Voltage: {voltage:.4g} V')\n",
    "    print(f'Current: {current:.4g} A')\n",
    "    if (delay_time - (time.perf_counter() - round_start)) > 0:\n",
    "        time.sleep(delay_time - (time.perf_counter() - round_start))\n",
    "    else:\n",
    "        pass\n",
    "    \n",
    "clear_output(wait=True)\n",
    "# Set the voltage source output off\n",
    "keithley.write('OUTPUT OFF')\n",
    "\n",
    "# Create a CSV file for saving the data\n",
    "with open(filename, 'w', newline='') as csvfile:\n",
    "    csvwriter = csv.writer(csvfile)\n",
    "    csvwriter.writerow(['Time (s)', 'Current (A)', 'Voltage (V)'])\n",
    "    for i in range(len(times)):\n",
    "        csvwriter.writerow([times[i], currents[i], voltages[i]])\n",
    "\n",
    "# Check that the CSV file was created successfully\n",
    "try:\n",
    "    with open(filename, 'r') as csvfile:\n",
    "        pass\n",
    "except:\n",
    "    print(\"Error: Could not create CSV file\")\n",
    "\n",
    "# Close the connection to the Keithley 2450\n",
    "keithley.close()\n",
    "\n",
    "print(\"Program completed\")"
   ]
  }
 ],
 "metadata": {
  "kernelspec": {
   "display_name": "Python 3 (ipykernel)",
   "language": "python",
   "name": "python3"
  },
  "language_info": {
   "codemirror_mode": {
    "name": "ipython",
    "version": 3
   },
   "file_extension": ".py",
   "mimetype": "text/x-python",
   "name": "python",
   "nbconvert_exporter": "python",
   "pygments_lexer": "ipython3",
   "version": "3.9.12"
  }
 },
 "nbformat": 4,
 "nbformat_minor": 5
}
